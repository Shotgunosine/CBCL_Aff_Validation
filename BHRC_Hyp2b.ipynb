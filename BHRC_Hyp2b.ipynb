{
 "cells": [
  {
   "cell_type": "code",
   "execution_count": 1,
   "id": "b9d3b9a3",
   "metadata": {},
   "outputs": [],
   "source": [
    "import pandas as pd\n",
    "pd.set_option('max_colwidth', 100)\n",
    "import numpy as np\n",
    "import matplotlib.pyplot as plt\n",
    "from itertools import cycle\n",
    "from sklearn import svm, datasets\n",
    "from sklearn.metrics import roc_curve, auc\n",
    "from sklearn.model_selection import train_test_split\n",
    "from sklearn.preprocessing import label_binarize\n",
    "from sklearn.multiclass import OneVsRestClassifier\n",
    "from sklearn.metrics import roc_auc_score\n",
    "from sklearn.metrics import confusion_matrix\n",
    "import itertools\n",
    "import scipy.stats as st"
   ]
  },
  {
   "cell_type": "code",
   "execution_count": 2,
   "id": "4cae3e09",
   "metadata": {},
   "outputs": [],
   "source": [
    "# Data - BHRC\n",
    "# Reporter - clinician\n",
    "# Hypothesis - 2b (depressed w/o comorbidities vs not depressed but with adhd/anxiety)"
   ]
  },
  {
   "cell_type": "markdown",
   "id": "17474bc7",
   "metadata": {},
   "source": [
    "# Loading and prepping BHRC data"
   ]
  },
  {
   "cell_type": "code",
   "execution_count": 3,
   "id": "d1f15bff",
   "metadata": {},
   "outputs": [
    {
     "name": "stdout",
     "output_type": "stream",
     "text": [
      "   ident redcap_event_name        age        agem      page1      page1m  \\\n",
      "0      1       wave0_arm_1   7.033539   84.402464        NaN         NaN   \n",
      "1      1       wave1_arm_1  10.800821  129.609856  10.932238  131.186858   \n",
      "2      1       wave2_arm_1  15.635866  187.630390  15.808350  189.700205   \n",
      "3      2       wave0_arm_1   7.058179   84.698152        NaN         NaN   \n",
      "4      2       wave1_arm_1  10.132786  121.593429  10.784394  129.412731   \n",
      "5      2       wave2_arm_1  15.430527  185.166324  15.504449  186.053388   \n",
      "6      3       wave0_arm_1   8.361396  100.336756   8.591376  103.096509   \n",
      "7      3       wave1_arm_1  11.394935  136.739220  12.090349  145.084189   \n",
      "8      3       wave2_arm_1  16.301164  195.613963  16.550308  198.603696   \n",
      "9      4       wave0_arm_1  10.409309  124.911704        NaN         NaN   \n",
      "\n",
      "       page2      page2m       nage       nagem  ...  np_cl_p_fl  \\\n",
      "0        NaN         NaN        NaN         NaN  ...         NaN   \n",
      "1  10.932238  131.186858        NaN         NaN  ...         NaN   \n",
      "2  15.808350  189.700205        NaN         NaN  ...         NaN   \n",
      "3        NaN         NaN        NaN         NaN  ...         NaN   \n",
      "4  10.789870  129.478439        NaN         NaN  ...         NaN   \n",
      "5  15.507187  186.086242        NaN         NaN  ...         NaN   \n",
      "6   8.591376  103.096509   8.856947  106.283368  ...    0.194506   \n",
      "7  12.090349  145.084189        NaN         NaN  ...         NaN   \n",
      "8  16.394251  196.731006  16.021903  192.262834  ...         NaN   \n",
      "9        NaN         NaN        NaN         NaN  ...         NaN   \n",
      "\n",
      "   np_cl_int_fl  np_cl_ext_fl  np_cl_ddep_fl  np_cl_danx_fl  np_cl_dsoma_fl  \\\n",
      "0           NaN           NaN            NaN            NaN             NaN   \n",
      "1           NaN           NaN            NaN            NaN             NaN   \n",
      "2           NaN           NaN            NaN            NaN             NaN   \n",
      "3           NaN           NaN            NaN            NaN             NaN   \n",
      "4           NaN           NaN            NaN            NaN             NaN   \n",
      "5           NaN           NaN            NaN            NaN             NaN   \n",
      "6      -0.71137      0.249912            NaN            NaN             NaN   \n",
      "7           NaN           NaN            NaN            NaN             NaN   \n",
      "8           NaN           NaN            NaN            NaN             NaN   \n",
      "9           NaN           NaN            NaN            NaN             NaN   \n",
      "\n",
      "   np_cl_dadhd_fl  np_cl_dodd_fl  np_cl_dconduct_fl schoolach_fl  \n",
      "0             NaN            NaN                NaN    -1.324395  \n",
      "1             NaN            NaN                NaN    -0.071568  \n",
      "2             NaN            NaN                NaN    -0.224725  \n",
      "3             NaN            NaN                NaN          NaN  \n",
      "4             NaN            NaN                NaN    -0.015597  \n",
      "5             NaN            NaN                NaN     0.855114  \n",
      "6             NaN            NaN                NaN     0.014093  \n",
      "7             NaN            NaN                NaN    -0.071568  \n",
      "8             NaN            NaN                NaN     0.809500  \n",
      "9             NaN            NaN                NaN    -0.268822  \n",
      "\n",
      "[10 rows x 2250 columns]\n",
      "(7533, 2250)\n"
     ]
    }
   ],
   "source": [
    "path_to_bhrcfile = '/data/MBDU/bhrc/data/Pine_129BHRC_2022_04_14.csv'\n",
    "bhrcfile = pd.read_csv(path_to_bhrcfile, sep=',', header=0, low_memory=False)\n",
    "print(bhrcfile.head(10))\n",
    "print(bhrcfile.shape)"
   ]
  },
  {
   "cell_type": "markdown",
   "id": "caa8d0dc",
   "metadata": {},
   "source": [
    "https://aseba.org/wp-content/uploads/DSM-Oriented-Guide-for-the-ASEBA.pdf <br>\n",
    "DSM5 - summarize items  items 5, 14, 18, 24, 35, 52, 54, 76, 77, 91, 100, 102 and 103 <br>\n",
    "\n",
    "### Table 1-3 a Items Comprising DSM-5-Oriented Scales for Ages 6-18\n",
    "--> 5. Enjoys little (dom_s08_cbclp_w0w2 - cl5 - Few things give pleasure)<br>\n",
    "--> 14. Cries (dom_s08_cbclp_w0w2 - cl14 - Cries a lot)<br>\n",
    "--> 18. Harms self (cl18 - Hurts him/herself on purpose or tried to kill him/herself)<br>\n",
    "--> 24. Doesn’t eat well (cl24 - Is hard to eat)<br>\n",
    "--> 35. Worthless (cl35 - Feels worthless or inferior)<br>\n",
    "--> 52. Guilty (cl52 - Feels very guilty)<br>\n",
    "--> 54. Tired (cl54 - Feels too tired for no reason)<br>\n",
    "--> 60. Apathetic - leave it because it's not in CBCL<br>\n",
    "--> 76. Sleeps less (cl76 - Sleep less than most children)<br>\n",
    "--> 77. Sleeps more (cl77 - Sleep more than most children during the day and / or at night)<br>\n",
    "--> 91. Talks/thinks suicide (cl91 - Say you're going to kill yourself)<br>\n",
    "--> 100. Sleep problems (cl100 - Have sleep problems)<br>\n",
    "--> 102. Lacks energy  (cl102 - Is poorly active, slow in movement, or lacking energy)<br>\n",
    "--> 103. Sad (cl103 - Is unhappy, sad or depressed)<br>\n"
   ]
  },
  {
   "cell_type": "code",
   "execution_count": 4,
   "id": "66c4c981",
   "metadata": {},
   "outputs": [],
   "source": [
    "relevant_depression_columns = [\"cl5\", \"cl14\", \"cl18\", \"cl24\", \"cl35\", \"cl52\", \"cl54\", \"cl76\", \"cl77\", \"cl91\", \"cl100\", \"cl102\", \"cl103\"]"
   ]
  },
  {
   "cell_type": "code",
   "execution_count": 5,
   "id": "0b0bd914",
   "metadata": {},
   "outputs": [
    {
     "name": "stdout",
     "output_type": "stream",
     "text": [
      "0.0     3686\n",
      "1.0     1175\n",
      "2.0      492\n",
      "99.0      10\n",
      "Name: cl5, dtype: int64\n",
      "0.0    4241\n",
      "1.0     774\n",
      "2.0     349\n",
      "Name: cl14, dtype: int64\n",
      "0.0    5157\n",
      "1.0     138\n",
      "2.0      69\n",
      "Name: cl18, dtype: int64\n",
      "0.0     4310\n",
      "1.0      696\n",
      "2.0      357\n",
      "99.0       1\n",
      "Name: cl24, dtype: int64\n",
      "0.0     4381\n",
      "1.0      735\n",
      "2.0      245\n",
      "99.0       3\n",
      "Name: cl35, dtype: int64\n",
      "0.0     4835\n",
      "1.0      417\n",
      "2.0      108\n",
      "99.0       4\n",
      "Name: cl52, dtype: int64\n",
      "0.0     3962\n",
      "1.0      908\n",
      "2.0      490\n",
      "99.0       4\n",
      "Name: cl54, dtype: int64\n",
      "0.0     4643\n",
      "1.0      452\n",
      "2.0      268\n",
      "99.0       1\n",
      "Name: cl76, dtype: int64\n",
      "0.0     3985\n",
      "1.0      785\n",
      "2.0      592\n",
      "99.0       2\n",
      "Name: cl77, dtype: int64\n",
      "0.0     5077\n",
      "1.0      199\n",
      "2.0       84\n",
      "99.0       3\n",
      "Name: cl91, dtype: int64\n",
      "0.0     4829\n",
      "1.0      375\n",
      "2.0      157\n",
      "99.0       2\n",
      "Name: cl100, dtype: int64\n",
      "0.0     4671\n",
      "1.0      532\n",
      "2.0      155\n",
      "99.0       5\n",
      "Name: cl102, dtype: int64\n",
      "0.0     4474\n",
      "1.0      716\n",
      "2.0      171\n",
      "99.0       1\n",
      "Name: cl103, dtype: int64\n"
     ]
    }
   ],
   "source": [
    "# Check if there are no \"99\"s\n",
    "\n",
    "for column in relevant_depression_columns:\n",
    "    print(bhrcfile[column].value_counts())"
   ]
  },
  {
   "cell_type": "code",
   "execution_count": 6,
   "id": "b5876700",
   "metadata": {},
   "outputs": [
    {
     "name": "stdout",
     "output_type": "stream",
     "text": [
      "wave2_arm_1    23\n",
      "wave1_arm_1     4\n",
      "Name: redcap_event_name, dtype: int64\n",
      "16.950034    1\n",
      "16.386037    1\n",
      "17.911020    1\n",
      "16.071184    1\n",
      "16.605065    1\n",
      "14.056126    1\n",
      "17.757700    1\n",
      "13.645448    1\n",
      "17.620808    1\n",
      "16.867899    1\n",
      "16.191650    1\n",
      "17.938398    1\n",
      "15.329227    1\n",
      "16.769336    1\n",
      "16.038330    1\n",
      "15.906913    1\n",
      "14.822724    1\n",
      "17.806982    1\n",
      "17.546886    1\n",
      "17.648186    1\n",
      "13.409993    1\n",
      "15.509925    1\n",
      "17.908282    1\n",
      "16.900753    1\n",
      "17.138946    1\n",
      "17.812457    1\n",
      "17.010267    1\n",
      "Name: p1dawbaage, dtype: int64\n"
     ]
    }
   ],
   "source": [
    "# check where nans are\n",
    "checkdf = bhrcfile[(bhrcfile[relevant_depression_columns] >98).any(axis=1)]\n",
    "print(checkdf.redcap_event_name.value_counts())\n",
    "print(checkdf.p1dawbaage.value_counts())"
   ]
  },
  {
   "cell_type": "code",
   "execution_count": null,
   "id": "c29a8981",
   "metadata": {},
   "outputs": [],
   "source": [
    "# no missing data in our age group. Phew."
   ]
  },
  {
   "cell_type": "code",
   "execution_count": 5,
   "id": "e9a62e98",
   "metadata": {},
   "outputs": [
    {
     "name": "stdout",
     "output_type": "stream",
     "text": [
      "0.0    3696\n",
      "1.0    1175\n",
      "2.0     492\n",
      "Name: cl5, dtype: int64\n",
      "0.0    4241\n",
      "1.0     774\n",
      "2.0     349\n",
      "Name: cl14, dtype: int64\n",
      "0.0    5157\n",
      "1.0     138\n",
      "2.0      69\n",
      "Name: cl18, dtype: int64\n",
      "0.0    4311\n",
      "1.0     696\n",
      "2.0     357\n",
      "Name: cl24, dtype: int64\n",
      "0.0    4384\n",
      "1.0     735\n",
      "2.0     245\n",
      "Name: cl35, dtype: int64\n",
      "0.0    4839\n",
      "1.0     417\n",
      "2.0     108\n",
      "Name: cl52, dtype: int64\n",
      "0.0    3966\n",
      "1.0     908\n",
      "2.0     490\n",
      "Name: cl54, dtype: int64\n",
      "0.0    4644\n",
      "1.0     452\n",
      "2.0     268\n",
      "Name: cl76, dtype: int64\n",
      "0.0    3987\n",
      "1.0     785\n",
      "2.0     592\n",
      "Name: cl77, dtype: int64\n",
      "0.0    5080\n",
      "1.0     199\n",
      "2.0      84\n",
      "Name: cl91, dtype: int64\n",
      "0.0    4831\n",
      "1.0     375\n",
      "2.0     157\n",
      "Name: cl100, dtype: int64\n",
      "0.0    4676\n",
      "1.0     532\n",
      "2.0     155\n",
      "Name: cl102, dtype: int64\n",
      "0.0    4475\n",
      "1.0     716\n",
      "2.0     171\n",
      "Name: cl103, dtype: int64\n"
     ]
    }
   ],
   "source": [
    "# Remove the 99s, replace them with 0\n",
    "\n",
    "'''for column in relevant_depression_columns:\n",
    "    bhrcfile[column].values[bhrcfile[column] > 98] = 0\n",
    "    print(bhrcfile[column].value_counts())'''"
   ]
  },
  {
   "cell_type": "code",
   "execution_count": 6,
   "id": "9b4c3c3e",
   "metadata": {},
   "outputs": [
    {
     "data": {
      "text/plain": [
       "0.0     1669\n",
       "1.0      907\n",
       "2.0      716\n",
       "3.0      485\n",
       "4.0      398\n",
       "6.0      254\n",
       "5.0      249\n",
       "7.0      150\n",
       "8.0      133\n",
       "9.0      103\n",
       "10.0      69\n",
       "11.0      54\n",
       "12.0      52\n",
       "13.0      33\n",
       "15.0      28\n",
       "14.0      19\n",
       "16.0      12\n",
       "17.0       9\n",
       "18.0       8\n",
       "19.0       4\n",
       "20.0       4\n",
       "21.0       3\n",
       "23.0       1\n",
       "22.0       1\n",
       "Name: cbcl_dsm_depression, dtype: int64"
      ]
     },
     "execution_count": 6,
     "metadata": {},
     "output_type": "execute_result"
    }
   ],
   "source": [
    "# relevant_depression_columns = [\"cl5\", \"cl14\", \"cl18\", \"cl24\", \"cl35\", \"cl52\", \"cl54\", \"cl76\", \"cl77\", \"cl91\", \"cl100\", \"cl102\", \"cl103\"]\n",
    "bhrcfile['cbcl_dsm_depression'] = bhrcfile.cl5 + bhrcfile.cl14 + bhrcfile.cl18 + bhrcfile.cl24 + bhrcfile.cl35 + bhrcfile.cl52 + bhrcfile.cl54 + bhrcfile.cl76 + bhrcfile.cl77 + bhrcfile.cl91 + bhrcfile.cl100 + bhrcfile.cl102 + bhrcfile.cl103\n",
    "bhrcfile['cbcl_dsm_depression'].value_counts()"
   ]
  },
  {
   "cell_type": "code",
   "execution_count": 7,
   "id": "e5f02dcd",
   "metadata": {},
   "outputs": [],
   "source": [
    "bhrcfile['depression_clinician'] = (bhrcfile.dcmadep == 2) | (bhrcfile.dcotdep == 2)\n",
    "bhrcfile['healthy_clinician'] = (bhrcfile.dcany == 0)\n",
    "bhrcfile['anxiety_clinician'] = (bhrcfile.dcsepa == 2) | \\\n",
    "                        (bhrcfile.dcspph == 2) | \\\n",
    "                        (bhrcfile.dcsoph == 2) | \\\n",
    "                        (bhrcfile.dcpanic == 2) |\\\n",
    "                        (bhrcfile.dcagor == 2) | \\\n",
    "                        (bhrcfile.dcgena == 2) | \\\n",
    "                        (bhrcfile.dcotanx == 2) \n",
    "bhrcfile['ADHD_clinician'] = (bhrcfile.dcanyhk == 2)\n",
    "bhrcfile['depYES_anxietyadhdNO_clinician'] = (bhrcfile.depression_clinician == True) & ((bhrcfile.anxiety_clinician == False) & (bhrcfile.ADHD_clinician == False))\n",
    "bhrcfile['depNO_anxietyadhdYES_clinician'] = (bhrcfile.depression_clinician == False) & ((bhrcfile.anxiety_clinician == True) | (bhrcfile.ADHD_clinician == True))\n",
    "\n",
    "bhrcfile['depression_clinician_9to13'] = (bhrcfile.depression_clinician == True) & (bhrcfile.p1dawbaage.astype(float) >= 9.0) & (bhrcfile.p1dawbaage.astype(float) <= 13.0)\n",
    "bhrcfile['healthy_clinician_9to13'] = (bhrcfile.healthy_clinician == True) & (bhrcfile.p1dawbaage.astype(float) >= 9.0) & (bhrcfile.p1dawbaage.astype(float) <= 13.0)\n",
    "bhrcfile['depYES_anxietyadhdNO_clinician_9to13'] = (bhrcfile.depYES_anxietyadhdNO_clinician == True) & (bhrcfile.p1dawbaage.astype(float) >= 9.0) & (bhrcfile.p1dawbaage.astype(float) <= 13.0)\n",
    "bhrcfile['depNO_anxietyadhdYES_clinician_9to13'] = (bhrcfile.depNO_anxietyadhdYES_clinician == True) & (bhrcfile.p1dawbaage.astype(float) >= 9.0) & (bhrcfile.p1dawbaage.astype(float) <= 13.0)"
   ]
  },
  {
   "cell_type": "markdown",
   "id": "297bc4a9",
   "metadata": {},
   "source": [
    "example table:<br>\n",
    "<br>\n",
    "ident redcap_event_name        age        agem      page1      page1m  \\\n",
    "0      1       wave0_arm_1   7.033539   84.402464        NaN         NaN   \n",
    "1      1       wave1_arm_1  10.800821  129.609856  10.932238  131.186858   \n",
    "2      1       wave2_arm_1  15.635866  187.630390  15.808350  189.700205   \n",
    "3      2       wave0_arm_1   7.058179   84.698152        NaN         NaN   \n",
    "4      2       wave1_arm_1  10.132786  121.593429  10.784394  129.412731   \n",
    "5      2       wave2_arm_1  15.430527  185.166324  15.504449  186.053388   \n",
    "6      3       wave0_arm_1   8.361396  100.336756   8.591376  103.096509   \n",
    "7      3       wave1_arm_1  11.394935  136.739220  12.090349  145.084189   \n",
    "8      3       wave2_arm_1  16.301164  195.613963  16.550308  198.603696   \n",
    "9      4       wave0_arm_1  10.409309  124.911704        NaN         NaN   "
   ]
  },
  {
   "cell_type": "code",
   "execution_count": 8,
   "id": "bb88933b",
   "metadata": {},
   "outputs": [
    {
     "name": "stdout",
     "output_type": "stream",
     "text": [
      "(2259, 2261)\n",
      "10.475017    8\n",
      "11.271732    7\n",
      "11.761807    6\n",
      "11.797399    6\n",
      "11.164956    6\n",
      "            ..\n",
      "12.114990    1\n",
      "11.455168    1\n",
      "11.507187    1\n",
      "12.533881    1\n",
      "9.505818     1\n",
      "Name: p1dawbaage, Length: 1128, dtype: int64\n"
     ]
    }
   ],
   "source": [
    "#removing all rows where p1dawbaage <9 or >13\n",
    "bhrcfile = bhrcfile[bhrcfile.p1dawbaage >= 9]\n",
    "bhrcfile = bhrcfile[bhrcfile.p1dawbaage <= 13]\n",
    "print(bhrcfile.shape)\n",
    "print(bhrcfile['p1dawbaage'].value_counts())"
   ]
  },
  {
   "cell_type": "code",
   "execution_count": 9,
   "id": "7878dbdd",
   "metadata": {},
   "outputs": [
    {
     "data": {
      "text/html": [
       "<div>\n",
       "<style scoped>\n",
       "    .dataframe tbody tr th:only-of-type {\n",
       "        vertical-align: middle;\n",
       "    }\n",
       "\n",
       "    .dataframe tbody tr th {\n",
       "        vertical-align: top;\n",
       "    }\n",
       "\n",
       "    .dataframe thead th {\n",
       "        text-align: right;\n",
       "    }\n",
       "</style>\n",
       "<table border=\"1\" class=\"dataframe\">\n",
       "  <thead>\n",
       "    <tr style=\"text-align: right;\">\n",
       "      <th></th>\n",
       "      <th>ident</th>\n",
       "      <th>redcap_event_name</th>\n",
       "      <th>age</th>\n",
       "      <th>agem</th>\n",
       "      <th>page1</th>\n",
       "      <th>page1m</th>\n",
       "      <th>page2</th>\n",
       "      <th>page2m</th>\n",
       "      <th>nage</th>\n",
       "      <th>nagem</th>\n",
       "      <th>...</th>\n",
       "      <th>depression_clinician</th>\n",
       "      <th>healthy_clinician</th>\n",
       "      <th>anxiety_clinician</th>\n",
       "      <th>ADHD_clinician</th>\n",
       "      <th>depYES_anxietyadhdNO_clinician</th>\n",
       "      <th>depNO_anxietyadhdYES_clinician</th>\n",
       "      <th>depression_clinician_9to13</th>\n",
       "      <th>healthy_clinician_9to13</th>\n",
       "      <th>depYES_anxietyadhdNO_clinician_9to13</th>\n",
       "      <th>depNO_anxietyadhdYES_clinician_9to13</th>\n",
       "    </tr>\n",
       "  </thead>\n",
       "  <tbody>\n",
       "    <tr>\n",
       "      <th>1</th>\n",
       "      <td>1</td>\n",
       "      <td>wave1_arm_1</td>\n",
       "      <td>10.800821</td>\n",
       "      <td>129.609856</td>\n",
       "      <td>10.932238</td>\n",
       "      <td>131.186858</td>\n",
       "      <td>10.932238</td>\n",
       "      <td>131.186858</td>\n",
       "      <td>NaN</td>\n",
       "      <td>NaN</td>\n",
       "      <td>...</td>\n",
       "      <td>False</td>\n",
       "      <td>True</td>\n",
       "      <td>False</td>\n",
       "      <td>False</td>\n",
       "      <td>False</td>\n",
       "      <td>False</td>\n",
       "      <td>False</td>\n",
       "      <td>True</td>\n",
       "      <td>False</td>\n",
       "      <td>False</td>\n",
       "    </tr>\n",
       "    <tr>\n",
       "      <th>4</th>\n",
       "      <td>2</td>\n",
       "      <td>wave1_arm_1</td>\n",
       "      <td>10.132786</td>\n",
       "      <td>121.593429</td>\n",
       "      <td>10.784394</td>\n",
       "      <td>129.412731</td>\n",
       "      <td>10.789870</td>\n",
       "      <td>129.478439</td>\n",
       "      <td>NaN</td>\n",
       "      <td>NaN</td>\n",
       "      <td>...</td>\n",
       "      <td>False</td>\n",
       "      <td>False</td>\n",
       "      <td>True</td>\n",
       "      <td>False</td>\n",
       "      <td>False</td>\n",
       "      <td>True</td>\n",
       "      <td>False</td>\n",
       "      <td>False</td>\n",
       "      <td>False</td>\n",
       "      <td>True</td>\n",
       "    </tr>\n",
       "    <tr>\n",
       "      <th>7</th>\n",
       "      <td>3</td>\n",
       "      <td>wave1_arm_1</td>\n",
       "      <td>11.394935</td>\n",
       "      <td>136.739220</td>\n",
       "      <td>12.090349</td>\n",
       "      <td>145.084189</td>\n",
       "      <td>12.090349</td>\n",
       "      <td>145.084189</td>\n",
       "      <td>NaN</td>\n",
       "      <td>NaN</td>\n",
       "      <td>...</td>\n",
       "      <td>False</td>\n",
       "      <td>True</td>\n",
       "      <td>False</td>\n",
       "      <td>False</td>\n",
       "      <td>False</td>\n",
       "      <td>False</td>\n",
       "      <td>False</td>\n",
       "      <td>True</td>\n",
       "      <td>False</td>\n",
       "      <td>False</td>\n",
       "    </tr>\n",
       "    <tr>\n",
       "      <th>9</th>\n",
       "      <td>4</td>\n",
       "      <td>wave0_arm_1</td>\n",
       "      <td>10.409309</td>\n",
       "      <td>124.911704</td>\n",
       "      <td>NaN</td>\n",
       "      <td>NaN</td>\n",
       "      <td>NaN</td>\n",
       "      <td>NaN</td>\n",
       "      <td>NaN</td>\n",
       "      <td>NaN</td>\n",
       "      <td>...</td>\n",
       "      <td>False</td>\n",
       "      <td>True</td>\n",
       "      <td>False</td>\n",
       "      <td>False</td>\n",
       "      <td>False</td>\n",
       "      <td>False</td>\n",
       "      <td>False</td>\n",
       "      <td>True</td>\n",
       "      <td>False</td>\n",
       "      <td>False</td>\n",
       "    </tr>\n",
       "    <tr>\n",
       "      <th>13</th>\n",
       "      <td>5</td>\n",
       "      <td>wave1_arm_1</td>\n",
       "      <td>10.809035</td>\n",
       "      <td>129.708419</td>\n",
       "      <td>11.438741</td>\n",
       "      <td>137.264887</td>\n",
       "      <td>11.438741</td>\n",
       "      <td>137.264887</td>\n",
       "      <td>NaN</td>\n",
       "      <td>NaN</td>\n",
       "      <td>...</td>\n",
       "      <td>False</td>\n",
       "      <td>True</td>\n",
       "      <td>False</td>\n",
       "      <td>False</td>\n",
       "      <td>False</td>\n",
       "      <td>False</td>\n",
       "      <td>False</td>\n",
       "      <td>True</td>\n",
       "      <td>False</td>\n",
       "      <td>False</td>\n",
       "    </tr>\n",
       "  </tbody>\n",
       "</table>\n",
       "<p>5 rows × 2261 columns</p>\n",
       "</div>"
      ],
      "text/plain": [
       "    ident redcap_event_name        age        agem      page1      page1m  \\\n",
       "1       1       wave1_arm_1  10.800821  129.609856  10.932238  131.186858   \n",
       "4       2       wave1_arm_1  10.132786  121.593429  10.784394  129.412731   \n",
       "7       3       wave1_arm_1  11.394935  136.739220  12.090349  145.084189   \n",
       "9       4       wave0_arm_1  10.409309  124.911704        NaN         NaN   \n",
       "13      5       wave1_arm_1  10.809035  129.708419  11.438741  137.264887   \n",
       "\n",
       "        page2      page2m  nage  nagem  ...  depression_clinician  \\\n",
       "1   10.932238  131.186858   NaN    NaN  ...                 False   \n",
       "4   10.789870  129.478439   NaN    NaN  ...                 False   \n",
       "7   12.090349  145.084189   NaN    NaN  ...                 False   \n",
       "9         NaN         NaN   NaN    NaN  ...                 False   \n",
       "13  11.438741  137.264887   NaN    NaN  ...                 False   \n",
       "\n",
       "    healthy_clinician  anxiety_clinician  ADHD_clinician  \\\n",
       "1                True              False           False   \n",
       "4               False               True           False   \n",
       "7                True              False           False   \n",
       "9                True              False           False   \n",
       "13               True              False           False   \n",
       "\n",
       "    depYES_anxietyadhdNO_clinician  depNO_anxietyadhdYES_clinician  \\\n",
       "1                            False                           False   \n",
       "4                            False                            True   \n",
       "7                            False                           False   \n",
       "9                            False                           False   \n",
       "13                           False                           False   \n",
       "\n",
       "    depression_clinician_9to13  healthy_clinician_9to13  \\\n",
       "1                        False                     True   \n",
       "4                        False                    False   \n",
       "7                        False                     True   \n",
       "9                        False                     True   \n",
       "13                       False                     True   \n",
       "\n",
       "    depYES_anxietyadhdNO_clinician_9to13 depNO_anxietyadhdYES_clinician_9to13  \n",
       "1                                  False                                False  \n",
       "4                                  False                                 True  \n",
       "7                                  False                                False  \n",
       "9                                  False                                False  \n",
       "13                                 False                                False  \n",
       "\n",
       "[5 rows x 2261 columns]"
      ]
     },
     "execution_count": 9,
     "metadata": {},
     "output_type": "execute_result"
    }
   ],
   "source": [
    "bhrcfile.head()"
   ]
  },
  {
   "cell_type": "code",
   "execution_count": 10,
   "id": "281f7b04",
   "metadata": {},
   "outputs": [
    {
     "data": {
      "text/plain": [
       "2512    2\n",
       "1976    2\n",
       "567     2\n",
       "2017    2\n",
       "549     2\n",
       "       ..\n",
       "869     1\n",
       "868     1\n",
       "867     1\n",
       "866     1\n",
       "1296    1\n",
       "Name: ident, Length: 2083, dtype: int64"
      ]
     },
     "execution_count": 10,
     "metadata": {},
     "output_type": "execute_result"
    }
   ],
   "source": [
    "bhrcfile.ident.value_counts()"
   ]
  },
  {
   "cell_type": "code",
   "execution_count": 11,
   "id": "fcea61bc",
   "metadata": {},
   "outputs": [],
   "source": [
    "# sort by age and subject and then group by subject and use .first()"
   ]
  },
  {
   "cell_type": "code",
   "execution_count": 12,
   "id": "1b101e88",
   "metadata": {},
   "outputs": [
    {
     "data": {
      "text/plain": [
       "wave0_arm_1    1551\n",
       "wave1_arm_1     708\n",
       "Name: redcap_event_name, dtype: int64"
      ]
     },
     "execution_count": 12,
     "metadata": {},
     "output_type": "execute_result"
    }
   ],
   "source": [
    "bhrcfile.redcap_event_name.value_counts()"
   ]
  },
  {
   "cell_type": "code",
   "execution_count": 13,
   "id": "10580c6c",
   "metadata": {},
   "outputs": [
    {
     "data": {
      "text/plain": [
       "0    1551\n",
       "1     708\n",
       "Name: redcap_event_name, dtype: int64"
      ]
     },
     "execution_count": 13,
     "metadata": {},
     "output_type": "execute_result"
    }
   ],
   "source": [
    "bhrcfile = bhrcfile.replace('wave0_arm_1', 0)\n",
    "bhrcfile = bhrcfile.replace('wave1_arm_1', 1)\n",
    "bhrcfile = bhrcfile.replace('wave2_arm_1', 2)\n",
    "bhrcfile.redcap_event_name.value_counts()"
   ]
  },
  {
   "cell_type": "code",
   "execution_count": 14,
   "id": "51cb34c9",
   "metadata": {},
   "outputs": [
    {
     "data": {
      "text/html": [
       "<div>\n",
       "<style scoped>\n",
       "    .dataframe tbody tr th:only-of-type {\n",
       "        vertical-align: middle;\n",
       "    }\n",
       "\n",
       "    .dataframe tbody tr th {\n",
       "        vertical-align: top;\n",
       "    }\n",
       "\n",
       "    .dataframe thead th {\n",
       "        text-align: right;\n",
       "    }\n",
       "</style>\n",
       "<table border=\"1\" class=\"dataframe\">\n",
       "  <thead>\n",
       "    <tr style=\"text-align: right;\">\n",
       "      <th></th>\n",
       "      <th>ident</th>\n",
       "      <th>redcap_event_name</th>\n",
       "      <th>p1dawbaage</th>\n",
       "    </tr>\n",
       "  </thead>\n",
       "  <tbody>\n",
       "    <tr>\n",
       "      <th>1</th>\n",
       "      <td>1</td>\n",
       "      <td>1</td>\n",
       "      <td>10.937714</td>\n",
       "    </tr>\n",
       "    <tr>\n",
       "      <th>4</th>\n",
       "      <td>2</td>\n",
       "      <td>1</td>\n",
       "      <td>10.800821</td>\n",
       "    </tr>\n",
       "    <tr>\n",
       "      <th>7</th>\n",
       "      <td>3</td>\n",
       "      <td>1</td>\n",
       "      <td>12.054757</td>\n",
       "    </tr>\n",
       "    <tr>\n",
       "      <th>9</th>\n",
       "      <td>4</td>\n",
       "      <td>0</td>\n",
       "      <td>10.475017</td>\n",
       "    </tr>\n",
       "    <tr>\n",
       "      <th>13</th>\n",
       "      <td>5</td>\n",
       "      <td>1</td>\n",
       "      <td>11.173169</td>\n",
       "    </tr>\n",
       "    <tr>\n",
       "      <th>...</th>\n",
       "      <td>...</td>\n",
       "      <td>...</td>\n",
       "      <td>...</td>\n",
       "    </tr>\n",
       "    <tr>\n",
       "      <th>7521</th>\n",
       "      <td>2509</td>\n",
       "      <td>0</td>\n",
       "      <td>9.505818</td>\n",
       "    </tr>\n",
       "    <tr>\n",
       "      <th>7522</th>\n",
       "      <td>2509</td>\n",
       "      <td>1</td>\n",
       "      <td>12.703628</td>\n",
       "    </tr>\n",
       "    <tr>\n",
       "      <th>7528</th>\n",
       "      <td>2511</td>\n",
       "      <td>1</td>\n",
       "      <td>12.002738</td>\n",
       "    </tr>\n",
       "    <tr>\n",
       "      <th>7530</th>\n",
       "      <td>2512</td>\n",
       "      <td>0</td>\n",
       "      <td>9.297741</td>\n",
       "    </tr>\n",
       "    <tr>\n",
       "      <th>7531</th>\n",
       "      <td>2512</td>\n",
       "      <td>1</td>\n",
       "      <td>12.739220</td>\n",
       "    </tr>\n",
       "  </tbody>\n",
       "</table>\n",
       "<p>2259 rows × 3 columns</p>\n",
       "</div>"
      ],
      "text/plain": [
       "      ident  redcap_event_name  p1dawbaage\n",
       "1         1                  1   10.937714\n",
       "4         2                  1   10.800821\n",
       "7         3                  1   12.054757\n",
       "9         4                  0   10.475017\n",
       "13        5                  1   11.173169\n",
       "...     ...                ...         ...\n",
       "7521   2509                  0    9.505818\n",
       "7522   2509                  1   12.703628\n",
       "7528   2511                  1   12.002738\n",
       "7530   2512                  0    9.297741\n",
       "7531   2512                  1   12.739220\n",
       "\n",
       "[2259 rows x 3 columns]"
      ]
     },
     "execution_count": 14,
     "metadata": {},
     "output_type": "execute_result"
    }
   ],
   "source": [
    "bhrcfile = bhrcfile.sort_values(['ident', 'p1dawbaage'])\n",
    "bhrcfile = bhrcfile.groupby(by=['ident'])\n",
    "bhrcfile[['ident', 'redcap_event_name', 'p1dawbaage']].head(10)"
   ]
  },
  {
   "cell_type": "code",
   "execution_count": 15,
   "id": "915e5b6b",
   "metadata": {},
   "outputs": [
    {
     "data": {
      "text/plain": [
       "ident  ident\n",
       "1      1        1\n",
       "2      2        1\n",
       "3      3        1\n",
       "4      4        1\n",
       "5      5        1\n",
       "               ..\n",
       "2507   2507     1\n",
       "2508   2508     1\n",
       "2509   2509     2\n",
       "2511   2511     1\n",
       "2512   2512     2\n",
       "Name: ident, Length: 2083, dtype: int64"
      ]
     },
     "execution_count": 15,
     "metadata": {},
     "output_type": "execute_result"
    }
   ],
   "source": [
    "bhrcfile.ident.value_counts()"
   ]
  },
  {
   "cell_type": "code",
   "execution_count": 16,
   "id": "f53817ec",
   "metadata": {},
   "outputs": [
    {
     "data": {
      "text/html": [
       "<div>\n",
       "<style scoped>\n",
       "    .dataframe tbody tr th:only-of-type {\n",
       "        vertical-align: middle;\n",
       "    }\n",
       "\n",
       "    .dataframe tbody tr th {\n",
       "        vertical-align: top;\n",
       "    }\n",
       "\n",
       "    .dataframe thead th {\n",
       "        text-align: right;\n",
       "    }\n",
       "</style>\n",
       "<table border=\"1\" class=\"dataframe\">\n",
       "  <thead>\n",
       "    <tr style=\"text-align: right;\">\n",
       "      <th></th>\n",
       "      <th>redcap_event_name</th>\n",
       "      <th>p1dawbaage</th>\n",
       "    </tr>\n",
       "    <tr>\n",
       "      <th>ident</th>\n",
       "      <th></th>\n",
       "      <th></th>\n",
       "    </tr>\n",
       "  </thead>\n",
       "  <tbody>\n",
       "    <tr>\n",
       "      <th>1</th>\n",
       "      <td>1</td>\n",
       "      <td>10.937714</td>\n",
       "    </tr>\n",
       "    <tr>\n",
       "      <th>2</th>\n",
       "      <td>1</td>\n",
       "      <td>10.800821</td>\n",
       "    </tr>\n",
       "    <tr>\n",
       "      <th>3</th>\n",
       "      <td>1</td>\n",
       "      <td>12.054757</td>\n",
       "    </tr>\n",
       "    <tr>\n",
       "      <th>4</th>\n",
       "      <td>0</td>\n",
       "      <td>10.475017</td>\n",
       "    </tr>\n",
       "    <tr>\n",
       "      <th>5</th>\n",
       "      <td>1</td>\n",
       "      <td>11.173169</td>\n",
       "    </tr>\n",
       "  </tbody>\n",
       "</table>\n",
       "</div>"
      ],
      "text/plain": [
       "       redcap_event_name  p1dawbaage\n",
       "ident                               \n",
       "1                      1   10.937714\n",
       "2                      1   10.800821\n",
       "3                      1   12.054757\n",
       "4                      0   10.475017\n",
       "5                      1   11.173169"
      ]
     },
     "execution_count": 16,
     "metadata": {},
     "output_type": "execute_result"
    }
   ],
   "source": [
    "bhrcfile = bhrcfile.first('1D')\n",
    "bhrcfile[['redcap_event_name', 'p1dawbaage']].head()"
   ]
  },
  {
   "cell_type": "code",
   "execution_count": 17,
   "id": "e4be451d",
   "metadata": {},
   "outputs": [
    {
     "data": {
      "text/plain": [
       "1       1\n",
       "1706    1\n",
       "1703    1\n",
       "1701    1\n",
       "1700    1\n",
       "       ..\n",
       "853     1\n",
       "850     1\n",
       "849     1\n",
       "848     1\n",
       "2512    1\n",
       "Name: ident, Length: 2083, dtype: int64"
      ]
     },
     "execution_count": 17,
     "metadata": {},
     "output_type": "execute_result"
    }
   ],
   "source": [
    "bhrcfile = bhrcfile.reset_index(level=0)\n",
    "bhrcfile.ident.value_counts()"
   ]
  },
  {
   "cell_type": "code",
   "execution_count": 18,
   "id": "50e0b7af",
   "metadata": {},
   "outputs": [
    {
     "name": "stdout",
     "output_type": "stream",
     "text": [
      "Depressed 9 to 13 - clinician\n",
      "False    2003\n",
      "True       80\n",
      "Name: depression_clinician_9to13, dtype: int64\n",
      "\n",
      "Healthy 9 to 13 - clinician\n",
      "True     1543\n",
      "False     540\n",
      "Name: healthy_clinician_9to13, dtype: int64\n",
      "\n",
      "depYES_anxietyadhdNO_clinician - clinician\n",
      "False    2040\n",
      "True       43\n",
      "Name: depYES_anxietyadhdNO_clinician_9to13, dtype: int64\n",
      "\n",
      "depNO_anxietyadhdYES_clinician - clinician\n",
      "False    1723\n",
      "True      360\n",
      "Name: depNO_anxietyadhdYES_clinician_9to13, dtype: int64\n"
     ]
    }
   ],
   "source": [
    "# checking numbers of depressed etc\n",
    "print(\"Depressed 9 to 13 - clinician\")\n",
    "print(bhrcfile['depression_clinician_9to13'].value_counts())\n",
    "print(\"\\nHealthy 9 to 13 - clinician\")\n",
    "print(bhrcfile['healthy_clinician_9to13'].value_counts())\n",
    "print(\"\\ndepYES_anxietyadhdNO_clinician - clinician\")\n",
    "print(bhrcfile['depYES_anxietyadhdNO_clinician_9to13'].value_counts())\n",
    "print(\"\\ndepNO_anxietyadhdYES_clinician - clinician\")\n",
    "print(bhrcfile['depNO_anxietyadhdYES_clinician_9to13'].value_counts())"
   ]
  },
  {
   "cell_type": "code",
   "execution_count": 19,
   "id": "3ca7b531",
   "metadata": {},
   "outputs": [
    {
     "data": {
      "text/plain": [
       "(2083, 2152)"
      ]
     },
     "execution_count": 19,
     "metadata": {},
     "output_type": "execute_result"
    }
   ],
   "source": [
    "bhrcfile.shape"
   ]
  },
  {
   "cell_type": "code",
   "execution_count": 20,
   "id": "789e3e2e",
   "metadata": {},
   "outputs": [
    {
     "name": "stdout",
     "output_type": "stream",
     "text": [
      "(2083, 8)\n",
      "   ident  p1dawbaage  redcap_event_name  depression_clinician_9to13  \\\n",
      "0      1   10.937714                  1                       False   \n",
      "1      2   10.800821                  1                       False   \n",
      "2      3   12.054757                  1                       False   \n",
      "3      4   10.475017                  0                       False   \n",
      "4      5   11.173169                  1                       False   \n",
      "\n",
      "   healthy_clinician_9to13  depYES_anxietyadhdNO_clinician_9to13  \\\n",
      "0                     True                                 False   \n",
      "1                    False                                 False   \n",
      "2                     True                                 False   \n",
      "3                     True                                 False   \n",
      "4                     True                                 False   \n",
      "\n",
      "   depNO_anxietyadhdYES_clinician_9to13  cbcl_dsm_depression  \n",
      "0                                 False                  0.0  \n",
      "1                                  True                  5.0  \n",
      "2                                 False                  1.0  \n",
      "3                                 False                  1.0  \n",
      "4                                 False                  1.0  \n"
     ]
    }
   ],
   "source": [
    "mybhrcfile = bhrcfile[['ident', 'p1dawbaage', 'redcap_event_name', 'depression_clinician_9to13', 'healthy_clinician_9to13', 'depYES_anxietyadhdNO_clinician_9to13', 'depNO_anxietyadhdYES_clinician_9to13', 'cbcl_dsm_depression']]\n",
    "print(mybhrcfile.shape)\n",
    "print(mybhrcfile.head())"
   ]
  },
  {
   "cell_type": "code",
   "execution_count": 21,
   "id": "3703ba33",
   "metadata": {},
   "outputs": [
    {
     "name": "stderr",
     "output_type": "stream",
     "text": [
      "/tmp/ipykernel_13017/2129885117.py:1: SettingWithCopyWarning: \n",
      "A value is trying to be set on a copy of a slice from a DataFrame.\n",
      "Try using .loc[row_indexer,col_indexer] = value instead\n",
      "\n",
      "See the caveats in the documentation: https://pandas.pydata.org/pandas-docs/stable/user_guide/indexing.html#returning-a-view-versus-a-copy\n",
      "  mybhrcfile['gs_depression'] = mybhrcfile['depression_clinician_9to13'].astype(int)\n"
     ]
    },
    {
     "data": {
      "text/html": [
       "<div>\n",
       "<style scoped>\n",
       "    .dataframe tbody tr th:only-of-type {\n",
       "        vertical-align: middle;\n",
       "    }\n",
       "\n",
       "    .dataframe tbody tr th {\n",
       "        vertical-align: top;\n",
       "    }\n",
       "\n",
       "    .dataframe thead th {\n",
       "        text-align: right;\n",
       "    }\n",
       "</style>\n",
       "<table border=\"1\" class=\"dataframe\">\n",
       "  <thead>\n",
       "    <tr style=\"text-align: right;\">\n",
       "      <th></th>\n",
       "      <th>ident</th>\n",
       "      <th>p1dawbaage</th>\n",
       "      <th>redcap_event_name</th>\n",
       "      <th>depression_clinician_9to13</th>\n",
       "      <th>healthy_clinician_9to13</th>\n",
       "      <th>depYES_anxietyadhdNO_clinician_9to13</th>\n",
       "      <th>depNO_anxietyadhdYES_clinician_9to13</th>\n",
       "      <th>cbcl_dsm_depression</th>\n",
       "      <th>gs_depression</th>\n",
       "    </tr>\n",
       "  </thead>\n",
       "  <tbody>\n",
       "    <tr>\n",
       "      <th>0</th>\n",
       "      <td>1</td>\n",
       "      <td>10.937714</td>\n",
       "      <td>1</td>\n",
       "      <td>False</td>\n",
       "      <td>True</td>\n",
       "      <td>False</td>\n",
       "      <td>False</td>\n",
       "      <td>0.0</td>\n",
       "      <td>0</td>\n",
       "    </tr>\n",
       "    <tr>\n",
       "      <th>1</th>\n",
       "      <td>2</td>\n",
       "      <td>10.800821</td>\n",
       "      <td>1</td>\n",
       "      <td>False</td>\n",
       "      <td>False</td>\n",
       "      <td>False</td>\n",
       "      <td>True</td>\n",
       "      <td>5.0</td>\n",
       "      <td>0</td>\n",
       "    </tr>\n",
       "    <tr>\n",
       "      <th>2</th>\n",
       "      <td>3</td>\n",
       "      <td>12.054757</td>\n",
       "      <td>1</td>\n",
       "      <td>False</td>\n",
       "      <td>True</td>\n",
       "      <td>False</td>\n",
       "      <td>False</td>\n",
       "      <td>1.0</td>\n",
       "      <td>0</td>\n",
       "    </tr>\n",
       "    <tr>\n",
       "      <th>3</th>\n",
       "      <td>4</td>\n",
       "      <td>10.475017</td>\n",
       "      <td>0</td>\n",
       "      <td>False</td>\n",
       "      <td>True</td>\n",
       "      <td>False</td>\n",
       "      <td>False</td>\n",
       "      <td>1.0</td>\n",
       "      <td>0</td>\n",
       "    </tr>\n",
       "    <tr>\n",
       "      <th>4</th>\n",
       "      <td>5</td>\n",
       "      <td>11.173169</td>\n",
       "      <td>1</td>\n",
       "      <td>False</td>\n",
       "      <td>True</td>\n",
       "      <td>False</td>\n",
       "      <td>False</td>\n",
       "      <td>1.0</td>\n",
       "      <td>0</td>\n",
       "    </tr>\n",
       "    <tr>\n",
       "      <th>5</th>\n",
       "      <td>6</td>\n",
       "      <td>10.795346</td>\n",
       "      <td>0</td>\n",
       "      <td>True</td>\n",
       "      <td>False</td>\n",
       "      <td>True</td>\n",
       "      <td>False</td>\n",
       "      <td>13.0</td>\n",
       "      <td>1</td>\n",
       "    </tr>\n",
       "    <tr>\n",
       "      <th>6</th>\n",
       "      <td>7</td>\n",
       "      <td>9.229295</td>\n",
       "      <td>0</td>\n",
       "      <td>False</td>\n",
       "      <td>True</td>\n",
       "      <td>False</td>\n",
       "      <td>False</td>\n",
       "      <td>0.0</td>\n",
       "      <td>0</td>\n",
       "    </tr>\n",
       "    <tr>\n",
       "      <th>7</th>\n",
       "      <td>9</td>\n",
       "      <td>12.394251</td>\n",
       "      <td>0</td>\n",
       "      <td>False</td>\n",
       "      <td>True</td>\n",
       "      <td>False</td>\n",
       "      <td>False</td>\n",
       "      <td>0.0</td>\n",
       "      <td>0</td>\n",
       "    </tr>\n",
       "    <tr>\n",
       "      <th>8</th>\n",
       "      <td>10</td>\n",
       "      <td>12.265572</td>\n",
       "      <td>1</td>\n",
       "      <td>False</td>\n",
       "      <td>True</td>\n",
       "      <td>False</td>\n",
       "      <td>False</td>\n",
       "      <td>3.0</td>\n",
       "      <td>0</td>\n",
       "    </tr>\n",
       "    <tr>\n",
       "      <th>9</th>\n",
       "      <td>11</td>\n",
       "      <td>10.154689</td>\n",
       "      <td>0</td>\n",
       "      <td>False</td>\n",
       "      <td>True</td>\n",
       "      <td>False</td>\n",
       "      <td>False</td>\n",
       "      <td>0.0</td>\n",
       "      <td>0</td>\n",
       "    </tr>\n",
       "  </tbody>\n",
       "</table>\n",
       "</div>"
      ],
      "text/plain": [
       "   ident  p1dawbaage  redcap_event_name  depression_clinician_9to13  \\\n",
       "0      1   10.937714                  1                       False   \n",
       "1      2   10.800821                  1                       False   \n",
       "2      3   12.054757                  1                       False   \n",
       "3      4   10.475017                  0                       False   \n",
       "4      5   11.173169                  1                       False   \n",
       "5      6   10.795346                  0                        True   \n",
       "6      7    9.229295                  0                       False   \n",
       "7      9   12.394251                  0                       False   \n",
       "8     10   12.265572                  1                       False   \n",
       "9     11   10.154689                  0                       False   \n",
       "\n",
       "   healthy_clinician_9to13  depYES_anxietyadhdNO_clinician_9to13  \\\n",
       "0                     True                                 False   \n",
       "1                    False                                 False   \n",
       "2                     True                                 False   \n",
       "3                     True                                 False   \n",
       "4                     True                                 False   \n",
       "5                    False                                  True   \n",
       "6                     True                                 False   \n",
       "7                     True                                 False   \n",
       "8                     True                                 False   \n",
       "9                     True                                 False   \n",
       "\n",
       "   depNO_anxietyadhdYES_clinician_9to13  cbcl_dsm_depression  gs_depression  \n",
       "0                                 False                  0.0              0  \n",
       "1                                  True                  5.0              0  \n",
       "2                                 False                  1.0              0  \n",
       "3                                 False                  1.0              0  \n",
       "4                                 False                  1.0              0  \n",
       "5                                 False                 13.0              1  \n",
       "6                                 False                  0.0              0  \n",
       "7                                 False                  0.0              0  \n",
       "8                                 False                  3.0              0  \n",
       "9                                 False                  0.0              0  "
      ]
     },
     "execution_count": 21,
     "metadata": {},
     "output_type": "execute_result"
    }
   ],
   "source": [
    "mybhrcfile['gs_depression'] = mybhrcfile['depression_clinician_9to13'].astype(int)\n",
    "mybhrcfile.head(10)"
   ]
  },
  {
   "cell_type": "markdown",
   "id": "0c2d86ca",
   "metadata": {},
   "source": [
    "# HYPOTHESIS DIFFERENCES BEGIN HERE"
   ]
  },
  {
   "cell_type": "markdown",
   "id": "4b2e7868",
   "metadata": {},
   "source": [
    "We prepare a dataset to work with, of desir4ed length and positive/negative case ratio"
   ]
  },
  {
   "cell_type": "markdown",
   "id": "dec6c750",
   "metadata": {},
   "source": [
    "## Split into negative and positive gs diagnoses"
   ]
  },
  {
   "cell_type": "code",
   "execution_count": 22,
   "id": "21d9bbb5",
   "metadata": {},
   "outputs": [
    {
     "name": "stdout",
     "output_type": "stream",
     "text": [
      "(43, 9)\n"
     ]
    }
   ],
   "source": [
    "is_gs_pos =  mybhrcfile['depYES_anxietyadhdNO_clinician_9to13']==1\n",
    "pos_gs_all = mybhrcfile[is_gs_pos]\n",
    "print(pos_gs_all.shape)"
   ]
  },
  {
   "cell_type": "code",
   "execution_count": 23,
   "id": "71798533",
   "metadata": {},
   "outputs": [
    {
     "data": {
      "text/html": [
       "<div>\n",
       "<style scoped>\n",
       "    .dataframe tbody tr th:only-of-type {\n",
       "        vertical-align: middle;\n",
       "    }\n",
       "\n",
       "    .dataframe tbody tr th {\n",
       "        vertical-align: top;\n",
       "    }\n",
       "\n",
       "    .dataframe thead th {\n",
       "        text-align: right;\n",
       "    }\n",
       "</style>\n",
       "<table border=\"1\" class=\"dataframe\">\n",
       "  <thead>\n",
       "    <tr style=\"text-align: right;\">\n",
       "      <th></th>\n",
       "      <th>ident</th>\n",
       "      <th>p1dawbaage</th>\n",
       "      <th>redcap_event_name</th>\n",
       "      <th>depression_clinician_9to13</th>\n",
       "      <th>healthy_clinician_9to13</th>\n",
       "      <th>depYES_anxietyadhdNO_clinician_9to13</th>\n",
       "      <th>depNO_anxietyadhdYES_clinician_9to13</th>\n",
       "      <th>cbcl_dsm_depression</th>\n",
       "      <th>gs_depression</th>\n",
       "    </tr>\n",
       "  </thead>\n",
       "  <tbody>\n",
       "    <tr>\n",
       "      <th>5</th>\n",
       "      <td>6</td>\n",
       "      <td>10.795346</td>\n",
       "      <td>0</td>\n",
       "      <td>True</td>\n",
       "      <td>False</td>\n",
       "      <td>True</td>\n",
       "      <td>False</td>\n",
       "      <td>13.0</td>\n",
       "      <td>1</td>\n",
       "    </tr>\n",
       "    <tr>\n",
       "      <th>13</th>\n",
       "      <td>15</td>\n",
       "      <td>12.416153</td>\n",
       "      <td>0</td>\n",
       "      <td>True</td>\n",
       "      <td>False</td>\n",
       "      <td>True</td>\n",
       "      <td>False</td>\n",
       "      <td>4.0</td>\n",
       "      <td>1</td>\n",
       "    </tr>\n",
       "    <tr>\n",
       "      <th>94</th>\n",
       "      <td>108</td>\n",
       "      <td>10.746064</td>\n",
       "      <td>0</td>\n",
       "      <td>True</td>\n",
       "      <td>False</td>\n",
       "      <td>True</td>\n",
       "      <td>False</td>\n",
       "      <td>11.0</td>\n",
       "      <td>1</td>\n",
       "    </tr>\n",
       "    <tr>\n",
       "      <th>127</th>\n",
       "      <td>145</td>\n",
       "      <td>11.236140</td>\n",
       "      <td>0</td>\n",
       "      <td>True</td>\n",
       "      <td>False</td>\n",
       "      <td>True</td>\n",
       "      <td>False</td>\n",
       "      <td>11.0</td>\n",
       "      <td>1</td>\n",
       "    </tr>\n",
       "    <tr>\n",
       "      <th>134</th>\n",
       "      <td>157</td>\n",
       "      <td>12.490075</td>\n",
       "      <td>0</td>\n",
       "      <td>True</td>\n",
       "      <td>False</td>\n",
       "      <td>True</td>\n",
       "      <td>False</td>\n",
       "      <td>8.0</td>\n",
       "      <td>1</td>\n",
       "    </tr>\n",
       "  </tbody>\n",
       "</table>\n",
       "</div>"
      ],
      "text/plain": [
       "     ident  p1dawbaage  redcap_event_name  depression_clinician_9to13  \\\n",
       "5        6   10.795346                  0                        True   \n",
       "13      15   12.416153                  0                        True   \n",
       "94     108   10.746064                  0                        True   \n",
       "127    145   11.236140                  0                        True   \n",
       "134    157   12.490075                  0                        True   \n",
       "\n",
       "     healthy_clinician_9to13  depYES_anxietyadhdNO_clinician_9to13  \\\n",
       "5                      False                                  True   \n",
       "13                     False                                  True   \n",
       "94                     False                                  True   \n",
       "127                    False                                  True   \n",
       "134                    False                                  True   \n",
       "\n",
       "     depNO_anxietyadhdYES_clinician_9to13  cbcl_dsm_depression  gs_depression  \n",
       "5                                   False                 13.0              1  \n",
       "13                                  False                  4.0              1  \n",
       "94                                  False                 11.0              1  \n",
       "127                                 False                 11.0              1  \n",
       "134                                 False                  8.0              1  "
      ]
     },
     "execution_count": 23,
     "metadata": {},
     "output_type": "execute_result"
    }
   ],
   "source": [
    "pos_gs_all.head()"
   ]
  },
  {
   "cell_type": "code",
   "execution_count": 24,
   "id": "192582da",
   "metadata": {},
   "outputs": [
    {
     "name": "stdout",
     "output_type": "stream",
     "text": [
      "(360, 9)\n"
     ]
    }
   ],
   "source": [
    "is_gs_neg =  mybhrcfile['depNO_anxietyadhdYES_clinician_9to13']==True\n",
    "neg_gs_all = mybhrcfile[is_gs_neg]\n",
    "print(neg_gs_all.shape)"
   ]
  },
  {
   "cell_type": "markdown",
   "id": "3e2e1e2e",
   "metadata": {},
   "source": [
    "## Randomly choose the neg_ksads subsample"
   ]
  },
  {
   "cell_type": "code",
   "execution_count": 25,
   "id": "a32fe282",
   "metadata": {},
   "outputs": [
    {
     "name": "stdout",
     "output_type": "stream",
     "text": [
      "360\n",
      "      ident  p1dawbaage  redcap_event_name  depression_clinician_9to13  \\\n",
      "737     914   12.421629                  0                       False   \n",
      "638     793   10.094456                  0                       False   \n",
      "652     807   10.590007                  0                       False   \n",
      "1726   2093    9.648186                  0                       False   \n",
      "1882   2283   10.992471                  0                       False   \n",
      "\n",
      "      healthy_clinician_9to13  depYES_anxietyadhdNO_clinician_9to13  \\\n",
      "737                     False                                 False   \n",
      "638                     False                                 False   \n",
      "652                     False                                 False   \n",
      "1726                    False                                 False   \n",
      "1882                    False                                 False   \n",
      "\n",
      "      depNO_anxietyadhdYES_clinician_9to13  cbcl_dsm_depression  gs_depression  \n",
      "737                                   True                  8.0              0  \n",
      "638                                   True                  3.0              0  \n",
      "652                                   True                  1.0              0  \n",
      "1726                                  True                  3.0              0  \n",
      "1882                                  True                  0.0              0  \n"
     ]
    },
    {
     "data": {
      "text/plain": [
       "(360, 9)"
      ]
     },
     "execution_count": 25,
     "metadata": {},
     "output_type": "execute_result"
    }
   ],
   "source": [
    "num_pos = pos_gs_all.shape[0]\n",
    "size_subsample = 360 # !\n",
    "print(size_subsample)\n",
    "neg_gs_subsample = neg_gs_all.sample(n = size_subsample)\n",
    "print(neg_gs_subsample.head())\n",
    "neg_gs_subsample.shape"
   ]
  },
  {
   "cell_type": "markdown",
   "id": "e96668ed",
   "metadata": {},
   "source": [
    "## Mix all positive cases and the subsample of negative cases. Then shuffle. "
   ]
  },
  {
   "cell_type": "code",
   "execution_count": 26,
   "id": "259f2637",
   "metadata": {},
   "outputs": [
    {
     "name": "stdout",
     "output_type": "stream",
     "text": [
      "     ident  p1dawbaage  redcap_event_name  depression_clinician_9to13  \\\n",
      "5        6   10.795346                  0                        True   \n",
      "13      15   12.416153                  0                        True   \n",
      "94     108   10.746064                  0                        True   \n",
      "127    145   11.236140                  0                        True   \n",
      "134    157   12.490075                  0                        True   \n",
      "\n",
      "     healthy_clinician_9to13  depYES_anxietyadhdNO_clinician_9to13  \\\n",
      "5                      False                                  True   \n",
      "13                     False                                  True   \n",
      "94                     False                                  True   \n",
      "127                    False                                  True   \n",
      "134                    False                                  True   \n",
      "\n",
      "     depNO_anxietyadhdYES_clinician_9to13  cbcl_dsm_depression  gs_depression  \n",
      "5                                   False                 13.0              1  \n",
      "13                                  False                  4.0              1  \n",
      "94                                  False                 11.0              1  \n",
      "127                                 False                 11.0              1  \n",
      "134                                 False                  8.0              1  \n",
      "(403, 9)\n",
      "      ident  p1dawbaage  redcap_event_name  depression_clinician_9to13  \\\n",
      "757     941   12.424367                  1                        True   \n",
      "949    1190   12.306639                  0                       False   \n",
      "845    1057   10.316222                  0                       False   \n",
      "988    1235   12.041068                  0                       False   \n",
      "1824   2207   12.117728                  0                       False   \n",
      "\n",
      "      healthy_clinician_9to13  depYES_anxietyadhdNO_clinician_9to13  \\\n",
      "757                     False                                  True   \n",
      "949                     False                                 False   \n",
      "845                     False                                 False   \n",
      "988                     False                                 False   \n",
      "1824                    False                                 False   \n",
      "\n",
      "      depNO_anxietyadhdYES_clinician_9to13  cbcl_dsm_depression  gs_depression  \n",
      "757                                  False                  2.0              1  \n",
      "949                                   True                  1.0              0  \n",
      "845                                   True                  2.0              0  \n",
      "988                                   True                  6.0              0  \n",
      "1824                                  True                  5.0              0  \n",
      "(403, 9)\n"
     ]
    }
   ],
   "source": [
    "frames = [pos_gs_all, neg_gs_subsample]\n",
    "my_subsample = pd.concat(frames)\n",
    "print(my_subsample.head())\n",
    "print(my_subsample.shape)\n",
    "my_subsample = my_subsample.sample(frac = 1)\n",
    "print(my_subsample.head())\n",
    "print(my_subsample.shape)"
   ]
  },
  {
   "cell_type": "code",
   "execution_count": 27,
   "id": "47e6ce8b",
   "metadata": {},
   "outputs": [
    {
     "data": {
      "text/plain": [
       "ident                                   0\n",
       "p1dawbaage                              0\n",
       "redcap_event_name                       0\n",
       "depression_clinician_9to13              0\n",
       "healthy_clinician_9to13                 0\n",
       "depYES_anxietyadhdNO_clinician_9to13    0\n",
       "depNO_anxietyadhdYES_clinician_9to13    0\n",
       "cbcl_dsm_depression                     0\n",
       "gs_depression                           0\n",
       "dtype: int64"
      ]
     },
     "execution_count": 27,
     "metadata": {},
     "output_type": "execute_result"
    }
   ],
   "source": [
    "my_subsample.isnull().sum()"
   ]
  },
  {
   "cell_type": "markdown",
   "id": "d596e6f1",
   "metadata": {},
   "source": [
    "# AUCROC\n",
    "## Heavily using https://scikit-learn.org/stable/auto_examples/model_selection/plot_roc.html#sphx-glr-auto-examples-model-selection-plot-roc-py"
   ]
  },
  {
   "cell_type": "code",
   "execution_count": 28,
   "id": "30f9b3b5",
   "metadata": {},
   "outputs": [],
   "source": [
    "y_true_df = my_subsample['gs_depression']\n",
    "y_cbcl_df = my_subsample['cbcl_dsm_depression']\n",
    "\n",
    "y_true = my_subsample['gs_depression'].tolist() # called y_test in the example\n",
    "y_cbcl = my_subsample['cbcl_dsm_depression'].tolist() # called y_score in the example"
   ]
  },
  {
   "cell_type": "code",
   "execution_count": 29,
   "id": "e33b72f3",
   "metadata": {},
   "outputs": [
    {
     "data": {
      "text/plain": [
       "0.7808462532299743"
      ]
     },
     "execution_count": 29,
     "metadata": {},
     "output_type": "execute_result"
    }
   ],
   "source": [
    "sample_auc_score = roc_auc_score(y_true, y_cbcl)\n",
    "sample_auc_score\n",
    "# Note that we don't report this number in the paper. \n",
    "# Instead, we run bootstrapping and report bootstrap AUCROC, with confidence intervals."
   ]
  },
  {
   "cell_type": "code",
   "execution_count": 30,
   "id": "fabcc19a",
   "metadata": {},
   "outputs": [],
   "source": [
    "# plotting"
   ]
  },
  {
   "cell_type": "code",
   "execution_count": 31,
   "id": "8abca2d8",
   "metadata": {},
   "outputs": [
    {
     "data": {
      "text/plain": [
       "0.7808462532299743"
      ]
     },
     "execution_count": 31,
     "metadata": {},
     "output_type": "execute_result"
    }
   ],
   "source": [
    "# Compute ROC curve and ROC area for each class\n",
    "fpr = dict()\n",
    "tpr = dict()\n",
    "roc_auc = dict()\n",
    "fpr, tpr, _ = roc_curve(y_true_df, y_cbcl_df)\n",
    "roc_auc = auc(fpr, tpr)\n",
    "roc_auc"
   ]
  },
  {
   "cell_type": "code",
   "execution_count": 32,
   "id": "d17c1cf7",
   "metadata": {},
   "outputs": [
    {
     "data": {
      "image/png": "[encoded data removed]",
      "text/plain": [
       "<Figure size 432x288 with 1 Axes>"
      ]
     },
     "metadata": {
      "needs_background": "light"
     },
     "output_type": "display_data"
    }
   ],
   "source": [
    "plt.figure()\n",
    "lw = 2\n",
    "plt.plot(\n",
    "    fpr,\n",
    "    tpr,\n",
    "    color=\"darkorange\",\n",
    "    lw=lw,\n",
    "    label=\"ROC curve (area = %0.2f)\" % roc_auc,\n",
    ")\n",
    "plt.plot([0, 1], [0, 1], color=\"navy\", lw=lw, linestyle=\"--\")\n",
    "plt.xlim([0.0, 1.0])\n",
    "plt.ylim([0.0, 1.05])\n",
    "plt.xlabel(\"False Positive Rate\")\n",
    "plt.ylabel(\"True Positive Rate\")\n",
    "plt.title(\"Receiver operating characteristic\")\n",
    "plt.legend(loc=\"lower right\")\n",
    "plt.show()"
   ]
  },
  {
   "cell_type": "markdown",
   "id": "45689ffc",
   "metadata": {},
   "source": [
    "# SAVING"
   ]
  },
  {
   "cell_type": "code",
   "execution_count": null,
   "id": "2d7b4b29",
   "metadata": {},
   "outputs": [],
   "source": [
    "# We save these data to make figures for the paper later"
   ]
  },
  {
   "cell_type": "code",
   "execution_count": 33,
   "id": "c88e1a5a",
   "metadata": {},
   "outputs": [],
   "source": [
    "with open('../data_for_plotting/BHRC_data/BHRC_Hyp2b_y_true_df.npy', 'wb') as f:\n",
    "    np.save(f, y_true_df)\n",
    "with open('../data_for_plotting/BHRC_data/BHRC_Hyp2b_y_cbcl_df.npy', 'wb') as f:\n",
    "    np.save(f, y_cbcl_df)"
   ]
  },
  {
   "cell_type": "code",
   "execution_count": 34,
   "id": "2ad70d1b",
   "metadata": {},
   "outputs": [],
   "source": [
    "with open('../data_for_plotting/BHRC_data/BHRC_Hyp2b_y_true_df.npy', 'rb') as f:\n",
    "    my_true_df = np.load(f)\n",
    "with open('../data_for_plotting/BHRC_data/BHRC_Hyp2b_y_cbcl_df.npy', 'rb') as f:\n",
    "    my_cbcl_df = np.load(f)"
   ]
  },
  {
   "cell_type": "code",
   "execution_count": 35,
   "id": "df0a4e22",
   "metadata": {},
   "outputs": [
    {
     "data": {
      "image/png": "[encoded data removed]",
      "text/plain": [
       "<Figure size 432x288 with 1 Axes>"
      ]
     },
     "metadata": {
      "needs_background": "light"
     },
     "output_type": "display_data"
    }
   ],
   "source": [
    "plt.figure()\n",
    "lw = 2\n",
    "plt.plot(\n",
    "    fpr,\n",
    "    tpr,\n",
    "    color=\"darkorange\",\n",
    "    lw=lw,\n",
    "    label=\"ROC curve (area = %0.2f)\" % roc_auc,\n",
    ")\n",
    "plt.plot([0, 1], [0, 1], color=\"navy\", lw=lw, linestyle=\"--\")\n",
    "plt.xlim([0.0, 1.0])\n",
    "plt.ylim([0.0, 1.05])\n",
    "plt.xlabel(\"False Positive Rate\")\n",
    "plt.ylabel(\"True Positive Rate\")\n",
    "plt.title(\"Receiver operating characteristic\")\n",
    "plt.legend(loc=\"lower right\")\n",
    "plt.show()"
   ]
  },
  {
   "cell_type": "code",
   "execution_count": null,
   "id": "1418b78f",
   "metadata": {},
   "outputs": [],
   "source": []
  },
  {
   "cell_type": "markdown",
   "id": "e2037211",
   "metadata": {},
   "source": [
    "# Bootstrapping"
   ]
  },
  {
   "cell_type": "code",
   "execution_count": 36,
   "id": "a43414cb",
   "metadata": {},
   "outputs": [
    {
     "data": {
      "text/plain": [
       "array([354, 286, 292, 149, 375, 376,  99, 140, 107, 250,  57, 171, 382,\n",
       "       249, 339, 337, 313, 101, 103, 302, 277, 134, 346, 272,  64, 224,\n",
       "       185, 387, 347, 355,  91, 268, 180, 190, 349,  81,  78, 339, 286,\n",
       "       118, 359,  90,   4, 229, 264,  51, 324,  31, 325,  27,  65, 138,\n",
       "       390, 244, 264,  57,  95, 329, 247,  74, 389, 147, 261, 212, 328,\n",
       "        85,  64,  66, 288, 179, 331, 196, 322,  13, 278, 288, 159, 353,\n",
       "       164, 121,   0, 333, 181, 166, 216, 388, 234, 289, 396,  97, 219,\n",
       "       309, 150, 245, 307, 245, 130, 371, 345, 243,  90, 102,  90, 313,\n",
       "        16,  98, 243, 114, 202, 156,  70, 254,  68, 210, 241, 250, 158,\n",
       "       400, 273, 294, 289, 132, 270, 328, 323, 283, 284,  26, 265,  70,\n",
       "       155, 240, 201, 346,  56, 374, 201,  86,  11,  14, 312, 179, 391,\n",
       "       378, 254, 236,  63, 202, 391, 249, 142, 213, 211, 171,   2,  63,\n",
       "       207, 264, 213, 178, 281, 114,  69,  89, 354, 345, 155, 216,  76,\n",
       "       307, 272, 322, 202, 366,  38, 338, 167,  56,  63, 180, 254, 138,\n",
       "       113, 177, 251, 265,  68, 169, 301, 245, 328,  68, 189, 382, 305,\n",
       "        18, 108, 130, 166, 113, 270, 151,  48,  77, 220, 365, 323, 325,\n",
       "       271, 360,  90, 296, 363, 342,  58,  84,  87, 118, 188,  33, 355,\n",
       "        43, 263, 211, 103, 285, 207, 247, 178, 158, 231, 384, 356, 192,\n",
       "       185, 179, 388,  90, 386, 370,  80, 214,  77, 109, 287, 271, 168,\n",
       "       339, 245,  17, 179, 256, 118, 209,  85, 306,  97, 111, 294, 106,\n",
       "       200,  50, 274, 356, 306, 139, 269, 327, 293, 367,  55, 299, 268,\n",
       "       371,  95, 172, 304, 101,  95, 318, 376, 158, 137,  78, 105,  99,\n",
       "       277, 224,  27, 286, 195,  12, 207,   3, 277, 366,   8, 328, 328,\n",
       "       379, 163, 163, 215, 298, 345, 150, 306,  55, 382, 285, 218, 225,\n",
       "       322, 385, 132,  65, 255, 177,  80, 165,  54,  40, 235, 308, 192,\n",
       "       115, 105, 111, 119, 157, 241, 275, 392, 179, 349, 226, 368, 227,\n",
       "        51,  63, 181, 229, 103, 399, 239, 394, 347, 305, 321, 177, 361,\n",
       "       158, 119,  92,   1,  77, 184,  30, 394, 185, 246, 198, 331,  25,\n",
       "       382, 170, 286, 279, 114, 245, 111, 240, 143, 196, 333, 129, 278,\n",
       "       388, 305, 147,  10, 235, 298, 378, 402,  97, 339, 216, 228, 145,\n",
       "        63, 304, 331, 363, 359, 306,  55, 380, 109, 118, 264,  43, 205])"
      ]
     },
     "execution_count": 36,
     "metadata": {},
     "output_type": "execute_result"
    }
   ],
   "source": [
    "rng = np.random.default_rng()\n",
    "boot_ind = rng.choice(range(len(y_true_df)), size=y_true_df.size, replace=True)\n",
    "boot_ind"
   ]
  },
  {
   "cell_type": "code",
   "execution_count": 37,
   "id": "a466b1ca",
   "metadata": {},
   "outputs": [
    {
     "name": "stdout",
     "output_type": "stream",
     "text": [
      "<class 'pandas.core.series.Series'>\n",
      "<class 'pandas.core.frame.DataFrame'>\n"
     ]
    }
   ],
   "source": [
    "print(type(y_true_df))\n",
    "y_true_df = y_true_df.to_frame()\n",
    "y_cbcl_df = y_cbcl_df.to_frame()\n",
    "print(type(y_true_df))"
   ]
  },
  {
   "cell_type": "code",
   "execution_count": 38,
   "id": "348094c8",
   "metadata": {},
   "outputs": [
    {
     "data": {
      "text/html": [
       "<div>\n",
       "<style scoped>\n",
       "    .dataframe tbody tr th:only-of-type {\n",
       "        vertical-align: middle;\n",
       "    }\n",
       "\n",
       "    .dataframe tbody tr th {\n",
       "        vertical-align: top;\n",
       "    }\n",
       "\n",
       "    .dataframe thead th {\n",
       "        text-align: right;\n",
       "    }\n",
       "</style>\n",
       "<table border=\"1\" class=\"dataframe\">\n",
       "  <thead>\n",
       "    <tr style=\"text-align: right;\">\n",
       "      <th></th>\n",
       "      <th>gs_depression</th>\n",
       "    </tr>\n",
       "  </thead>\n",
       "  <tbody>\n",
       "    <tr>\n",
       "      <th>757</th>\n",
       "      <td>1</td>\n",
       "    </tr>\n",
       "    <tr>\n",
       "      <th>949</th>\n",
       "      <td>0</td>\n",
       "    </tr>\n",
       "    <tr>\n",
       "      <th>845</th>\n",
       "      <td>0</td>\n",
       "    </tr>\n",
       "    <tr>\n",
       "      <th>988</th>\n",
       "      <td>0</td>\n",
       "    </tr>\n",
       "    <tr>\n",
       "      <th>1824</th>\n",
       "      <td>0</td>\n",
       "    </tr>\n",
       "  </tbody>\n",
       "</table>\n",
       "</div>"
      ],
      "text/plain": [
       "      gs_depression\n",
       "757               1\n",
       "949               0\n",
       "845               0\n",
       "988               0\n",
       "1824              0"
      ]
     },
     "execution_count": 38,
     "metadata": {},
     "output_type": "execute_result"
    }
   ],
   "source": [
    "y_true_df.head()"
   ]
  },
  {
   "cell_type": "code",
   "execution_count": 39,
   "id": "84af6b4d",
   "metadata": {},
   "outputs": [
    {
     "name": "stdout",
     "output_type": "stream",
     "text": [
      "      cbcl_dsm_depression\n",
      "757                   2.0\n",
      "949                   1.0\n",
      "845                   2.0\n",
      "988                   6.0\n",
      "1824                  5.0\n",
      "      cbcl_dsm_depression\n",
      "930                   2.0\n",
      "905                  16.0\n",
      "186                   8.0\n",
      "1311                 10.0\n",
      "42                    0.0\n"
     ]
    }
   ],
   "source": [
    "boot_truth = y_true_df.iloc[boot_ind]\n",
    "boot_score = y_cbcl_df.iloc[boot_ind]\n",
    "print(y_cbcl_df.head(5))\n",
    "print(boot_score.head(5))"
   ]
  },
  {
   "cell_type": "code",
   "execution_count": 40,
   "id": "a2ef0254",
   "metadata": {},
   "outputs": [],
   "source": [
    "def gen_auc_boots(scores, truth, nboots=100, rng=None):\n",
    "    if rng is None:\n",
    "        rng = np.random.default_rng()\n",
    "    boot_res = []\n",
    "    for pp in range(nboots):\n",
    "        boot_ind = rng.choice(range(len(truth)), size=truth.size, replace=True)\n",
    "        boot_truth = truth.iloc[boot_ind]\n",
    "        boot_score = scores.iloc[boot_ind]\n",
    "        boot_res.append(roc_auc_score(boot_truth, boot_score))\n",
    "    return np.array(boot_res)"
   ]
  },
  {
   "cell_type": "code",
   "execution_count": 41,
   "id": "49bdac40",
   "metadata": {},
   "outputs": [],
   "source": [
    "target_auc = 0.75 # because we defined it this way. Change for Hyp 2b.\n",
    "\n",
    "boots = gen_auc_boots(y_cbcl_df, y_true_df, nboots=1000, rng=rng)\n",
    "boots = np.hstack([boots, np.array([sample_auc_score])])\n",
    "p = (boots >= target_auc).mean()"
   ]
  },
  {
   "cell_type": "code",
   "execution_count": 42,
   "id": "653c01a1",
   "metadata": {},
   "outputs": [
    {
     "data": {
      "text/plain": [
       "array([0.84129497, 0.78812946, 0.76732883, ..., 0.7359944 , 0.73376303,\n",
       "       0.78084625])"
      ]
     },
     "execution_count": 42,
     "metadata": {},
     "output_type": "execute_result"
    }
   ],
   "source": [
    "boots"
   ]
  },
  {
   "cell_type": "code",
   "execution_count": 43,
   "id": "8810ac04",
   "metadata": {},
   "outputs": [
    {
     "data": {
      "text/plain": [
       "0.6620835326000318"
      ]
     },
     "execution_count": 43,
     "metadata": {},
     "output_type": "execute_result"
    }
   ],
   "source": [
    "min(boots)"
   ]
  },
  {
   "cell_type": "code",
   "execution_count": 44,
   "id": "73806db7",
   "metadata": {},
   "outputs": [
    {
     "data": {
      "text/plain": [
       "0.8031968031968032"
      ]
     },
     "execution_count": 44,
     "metadata": {},
     "output_type": "execute_result"
    }
   ],
   "source": [
    "p"
   ]
  },
  {
   "cell_type": "code",
   "execution_count": 45,
   "id": "5d1c49be",
   "metadata": {},
   "outputs": [
    {
     "data": {
      "text/plain": [
       "0.75"
      ]
     },
     "execution_count": 45,
     "metadata": {},
     "output_type": "execute_result"
    }
   ],
   "source": [
    "target_auc"
   ]
  },
  {
   "cell_type": "markdown",
   "id": "27d22473",
   "metadata": {},
   "source": [
    "# RESULTS"
   ]
  },
  {
   "cell_type": "code",
   "execution_count": 46,
   "id": "feed6a1c",
   "metadata": {},
   "outputs": [
    {
     "data": {
      "text/plain": [
       "0.8031968031968032"
      ]
     },
     "execution_count": 46,
     "metadata": {},
     "output_type": "execute_result"
    }
   ],
   "source": [
    "p_onesided = (boots >= target_auc).mean()\n",
    "p_onesided"
   ]
  },
  {
   "cell_type": "code",
   "execution_count": 48,
   "id": "9b70cad8",
   "metadata": {},
   "outputs": [
    {
     "data": {
      "text/plain": [
       "0.3936063936063936"
      ]
     },
     "execution_count": 48,
     "metadata": {},
     "output_type": "execute_result"
    }
   ],
   "source": [
    "p_twosided1 = (boots > target_auc).mean()\n",
    "p_twosided2 = (boots < target_auc).mean()\n",
    "p_twosided = min(p_twosided1, p_twosided2)*2\n",
    "p_twosided"
   ]
  },
  {
   "cell_type": "code",
   "execution_count": 52,
   "id": "27bdfa4d",
   "metadata": {},
   "outputs": [
    {
     "data": {
      "text/plain": [
       "(0.7790761642173175, 0.783555522730159)"
      ]
     },
     "execution_count": 52,
     "metadata": {},
     "output_type": "execute_result"
    }
   ],
   "source": [
    "print(np.quantile(boots, .025))\n",
    "print(np.quantile(boots, .975))\n",
    "boots_mean_AUCROC = np.mean(boots)\n",
    "print(boots_mean_AUCROC, '(', np.quantile(boots, .025), np.quantile(boots, .975), ')')"
   ]
  },
  {
   "cell_type": "markdown",
   "id": "12d641b7",
   "metadata": {},
   "source": [
    "# Confusion matrix"
   ]
  },
  {
   "cell_type": "code",
   "execution_count": 53,
   "id": "1ae17434",
   "metadata": {},
   "outputs": [
    {
     "data": {
      "text/plain": [
       "array([21., 20., 18., 16., 15., 14., 13., 12., 11., 10.,  9.,  8.,  7.,\n",
       "        6.,  5.,  4.,  3.,  2.,  0.])"
      ]
     },
     "execution_count": 53,
     "metadata": {},
     "output_type": "execute_result"
    }
   ],
   "source": [
    "conf_fpr, conf_tpr, conf_thresh = roc_curve(y_true, y_cbcl)\n",
    "conf_thresh"
   ]
  },
  {
   "cell_type": "code",
   "execution_count": 54,
   "id": "f274b85f",
   "metadata": {},
   "outputs": [
    {
     "data": {
      "text/plain": [
       "0.7808462532299743"
      ]
     },
     "execution_count": 54,
     "metadata": {},
     "output_type": "execute_result"
    }
   ],
   "source": [
    "roc_auc = auc(conf_fpr, conf_tpr)\n",
    "roc_auc"
   ]
  },
  {
   "cell_type": "code",
   "execution_count": 55,
   "id": "8bcff1fa",
   "metadata": {},
   "outputs": [
    {
     "name": "stdout",
     "output_type": "stream",
     "text": [
      "[2.0, 1.0, 2.0, 6.0, 5.0, 15.0, 4.0, 2.0, 6.0, 2.0, 3.0, 8.0, 0.0, 7.0, 9.0, 11.0, 7.0, 7.0, 0.0, 5.0, 3.0, 0.0, 15.0, 0.0, 6.0, 0.0, 3.0, 0.0, 6.0, 8.0, 3.0, 1.0, 5.0, 4.0, 4.0, 2.0, 4.0, 2.0, 10.0, 6.0, 5.0, 0.0, 16.0, 12.0, 0.0, 5.0, 4.0, 2.0, 0.0, 1.0]\n",
      "0.0\n",
      "20.0\n"
     ]
    }
   ],
   "source": [
    "print(y_cbcl[:50])\n",
    "print(min(y_cbcl))\n",
    "print(max(y_cbcl))"
   ]
  },
  {
   "cell_type": "code",
   "execution_count": 56,
   "id": "65238278",
   "metadata": {},
   "outputs": [],
   "source": [
    "def predict_y(cbcl, threshold):\n",
    "    y_score = []\n",
    "    for item in y_cbcl:\n",
    "        if item >= threshold:\n",
    "            y_score.append(1)\n",
    "        else:\n",
    "            y_score.append(0)\n",
    "    return y_score"
   ]
  },
  {
   "cell_type": "code",
   "execution_count": 57,
   "id": "c49d5084",
   "metadata": {},
   "outputs": [
    {
     "data": {
      "text/html": [
       "<div>\n",
       "<style scoped>\n",
       "    .dataframe tbody tr th:only-of-type {\n",
       "        vertical-align: middle;\n",
       "    }\n",
       "\n",
       "    .dataframe tbody tr th {\n",
       "        vertical-align: top;\n",
       "    }\n",
       "\n",
       "    .dataframe thead th {\n",
       "        text-align: right;\n",
       "    }\n",
       "</style>\n",
       "<table border=\"1\" class=\"dataframe\">\n",
       "  <thead>\n",
       "    <tr style=\"text-align: right;\">\n",
       "      <th></th>\n",
       "      <th>threshold</th>\n",
       "      <th>Euclidian</th>\n",
       "      <th>FPR</th>\n",
       "      <th>TPR</th>\n",
       "      <th>TP</th>\n",
       "      <th>TN</th>\n",
       "      <th>FP</th>\n",
       "      <th>FN</th>\n",
       "    </tr>\n",
       "  </thead>\n",
       "  <tbody>\n",
       "    <tr>\n",
       "      <th>0</th>\n",
       "      <td>0</td>\n",
       "      <td>1.000000</td>\n",
       "      <td>1.000000</td>\n",
       "      <td>1.000000</td>\n",
       "      <td>43</td>\n",
       "      <td>0</td>\n",
       "      <td>360</td>\n",
       "      <td>0</td>\n",
       "    </tr>\n",
       "    <tr>\n",
       "      <th>1</th>\n",
       "      <td>1</td>\n",
       "      <td>0.872222</td>\n",
       "      <td>0.872222</td>\n",
       "      <td>1.000000</td>\n",
       "      <td>43</td>\n",
       "      <td>46</td>\n",
       "      <td>314</td>\n",
       "      <td>0</td>\n",
       "    </tr>\n",
       "    <tr>\n",
       "      <th>2</th>\n",
       "      <td>2</td>\n",
       "      <td>0.744444</td>\n",
       "      <td>0.744444</td>\n",
       "      <td>1.000000</td>\n",
       "      <td>43</td>\n",
       "      <td>92</td>\n",
       "      <td>268</td>\n",
       "      <td>0</td>\n",
       "    </tr>\n",
       "    <tr>\n",
       "      <th>3</th>\n",
       "      <td>3</td>\n",
       "      <td>0.634632</td>\n",
       "      <td>0.627778</td>\n",
       "      <td>0.906977</td>\n",
       "      <td>39</td>\n",
       "      <td>134</td>\n",
       "      <td>226</td>\n",
       "      <td>4</td>\n",
       "    </tr>\n",
       "    <tr>\n",
       "      <th>4</th>\n",
       "      <td>4</td>\n",
       "      <td>0.548597</td>\n",
       "      <td>0.530556</td>\n",
       "      <td>0.860465</td>\n",
       "      <td>37</td>\n",
       "      <td>169</td>\n",
       "      <td>191</td>\n",
       "      <td>6</td>\n",
       "    </tr>\n",
       "    <tr>\n",
       "      <th>5</th>\n",
       "      <td>5</td>\n",
       "      <td>0.488750</td>\n",
       "      <td>0.441667</td>\n",
       "      <td>0.790698</td>\n",
       "      <td>34</td>\n",
       "      <td>201</td>\n",
       "      <td>159</td>\n",
       "      <td>9</td>\n",
       "    </tr>\n",
       "    <tr>\n",
       "      <th>6</th>\n",
       "      <td>6</td>\n",
       "      <td>0.429517</td>\n",
       "      <td>0.361111</td>\n",
       "      <td>0.767442</td>\n",
       "      <td>33</td>\n",
       "      <td>230</td>\n",
       "      <td>130</td>\n",
       "      <td>10</td>\n",
       "    </tr>\n",
       "    <tr>\n",
       "      <th>7</th>\n",
       "      <td>7</td>\n",
       "      <td>0.361593</td>\n",
       "      <td>0.255556</td>\n",
       "      <td>0.744186</td>\n",
       "      <td>32</td>\n",
       "      <td>268</td>\n",
       "      <td>92</td>\n",
       "      <td>11</td>\n",
       "    </tr>\n",
       "    <tr>\n",
       "      <th>8</th>\n",
       "      <td>8</td>\n",
       "      <td>0.466351</td>\n",
       "      <td>0.205556</td>\n",
       "      <td>0.581395</td>\n",
       "      <td>25</td>\n",
       "      <td>286</td>\n",
       "      <td>74</td>\n",
       "      <td>18</td>\n",
       "    </tr>\n",
       "    <tr>\n",
       "      <th>9</th>\n",
       "      <td>9</td>\n",
       "      <td>0.510080</td>\n",
       "      <td>0.147222</td>\n",
       "      <td>0.511628</td>\n",
       "      <td>22</td>\n",
       "      <td>307</td>\n",
       "      <td>53</td>\n",
       "      <td>21</td>\n",
       "    </tr>\n",
       "    <tr>\n",
       "      <th>10</th>\n",
       "      <td>10</td>\n",
       "      <td>0.546302</td>\n",
       "      <td>0.111111</td>\n",
       "      <td>0.465116</td>\n",
       "      <td>20</td>\n",
       "      <td>320</td>\n",
       "      <td>40</td>\n",
       "      <td>23</td>\n",
       "    </tr>\n",
       "    <tr>\n",
       "      <th>11</th>\n",
       "      <td>11</td>\n",
       "      <td>0.632706</td>\n",
       "      <td>0.077778</td>\n",
       "      <td>0.372093</td>\n",
       "      <td>16</td>\n",
       "      <td>332</td>\n",
       "      <td>28</td>\n",
       "      <td>27</td>\n",
       "    </tr>\n",
       "    <tr>\n",
       "      <th>12</th>\n",
       "      <td>12</td>\n",
       "      <td>0.700346</td>\n",
       "      <td>0.061111</td>\n",
       "      <td>0.302326</td>\n",
       "      <td>13</td>\n",
       "      <td>338</td>\n",
       "      <td>22</td>\n",
       "      <td>30</td>\n",
       "    </tr>\n",
       "    <tr>\n",
       "      <th>13</th>\n",
       "      <td>13</td>\n",
       "      <td>0.745352</td>\n",
       "      <td>0.041667</td>\n",
       "      <td>0.255814</td>\n",
       "      <td>11</td>\n",
       "      <td>345</td>\n",
       "      <td>15</td>\n",
       "      <td>32</td>\n",
       "    </tr>\n",
       "    <tr>\n",
       "      <th>14</th>\n",
       "      <td>14</td>\n",
       "      <td>0.814636</td>\n",
       "      <td>0.033333</td>\n",
       "      <td>0.186047</td>\n",
       "      <td>8</td>\n",
       "      <td>348</td>\n",
       "      <td>12</td>\n",
       "      <td>35</td>\n",
       "    </tr>\n",
       "    <tr>\n",
       "      <th>15</th>\n",
       "      <td>15</td>\n",
       "      <td>0.860828</td>\n",
       "      <td>0.025000</td>\n",
       "      <td>0.139535</td>\n",
       "      <td>6</td>\n",
       "      <td>351</td>\n",
       "      <td>9</td>\n",
       "      <td>37</td>\n",
       "    </tr>\n",
       "    <tr>\n",
       "      <th>16</th>\n",
       "      <td>16</td>\n",
       "      <td>0.953590</td>\n",
       "      <td>0.013889</td>\n",
       "      <td>0.046512</td>\n",
       "      <td>2</td>\n",
       "      <td>355</td>\n",
       "      <td>5</td>\n",
       "      <td>41</td>\n",
       "    </tr>\n",
       "    <tr>\n",
       "      <th>17</th>\n",
       "      <td>17</td>\n",
       "      <td>0.976760</td>\n",
       "      <td>0.005556</td>\n",
       "      <td>0.023256</td>\n",
       "      <td>1</td>\n",
       "      <td>358</td>\n",
       "      <td>2</td>\n",
       "      <td>42</td>\n",
       "    </tr>\n",
       "    <tr>\n",
       "      <th>18</th>\n",
       "      <td>18</td>\n",
       "      <td>0.976760</td>\n",
       "      <td>0.005556</td>\n",
       "      <td>0.023256</td>\n",
       "      <td>1</td>\n",
       "      <td>358</td>\n",
       "      <td>2</td>\n",
       "      <td>42</td>\n",
       "    </tr>\n",
       "    <tr>\n",
       "      <th>19</th>\n",
       "      <td>19</td>\n",
       "      <td>1.000004</td>\n",
       "      <td>0.002778</td>\n",
       "      <td>0.000000</td>\n",
       "      <td>0</td>\n",
       "      <td>359</td>\n",
       "      <td>1</td>\n",
       "      <td>43</td>\n",
       "    </tr>\n",
       "    <tr>\n",
       "      <th>20</th>\n",
       "      <td>20</td>\n",
       "      <td>1.000004</td>\n",
       "      <td>0.002778</td>\n",
       "      <td>0.000000</td>\n",
       "      <td>0</td>\n",
       "      <td>359</td>\n",
       "      <td>1</td>\n",
       "      <td>43</td>\n",
       "    </tr>\n",
       "    <tr>\n",
       "      <th>21</th>\n",
       "      <td>21</td>\n",
       "      <td>1.000000</td>\n",
       "      <td>0.000000</td>\n",
       "      <td>0.000000</td>\n",
       "      <td>0</td>\n",
       "      <td>360</td>\n",
       "      <td>0</td>\n",
       "      <td>43</td>\n",
       "    </tr>\n",
       "    <tr>\n",
       "      <th>22</th>\n",
       "      <td>22</td>\n",
       "      <td>1.000000</td>\n",
       "      <td>0.000000</td>\n",
       "      <td>0.000000</td>\n",
       "      <td>0</td>\n",
       "      <td>360</td>\n",
       "      <td>0</td>\n",
       "      <td>43</td>\n",
       "    </tr>\n",
       "    <tr>\n",
       "      <th>23</th>\n",
       "      <td>23</td>\n",
       "      <td>1.000000</td>\n",
       "      <td>0.000000</td>\n",
       "      <td>0.000000</td>\n",
       "      <td>0</td>\n",
       "      <td>360</td>\n",
       "      <td>0</td>\n",
       "      <td>43</td>\n",
       "    </tr>\n",
       "    <tr>\n",
       "      <th>24</th>\n",
       "      <td>24</td>\n",
       "      <td>1.000000</td>\n",
       "      <td>0.000000</td>\n",
       "      <td>0.000000</td>\n",
       "      <td>0</td>\n",
       "      <td>360</td>\n",
       "      <td>0</td>\n",
       "      <td>43</td>\n",
       "    </tr>\n",
       "    <tr>\n",
       "      <th>25</th>\n",
       "      <td>25</td>\n",
       "      <td>1.000000</td>\n",
       "      <td>0.000000</td>\n",
       "      <td>0.000000</td>\n",
       "      <td>0</td>\n",
       "      <td>360</td>\n",
       "      <td>0</td>\n",
       "      <td>43</td>\n",
       "    </tr>\n",
       "    <tr>\n",
       "      <th>26</th>\n",
       "      <td>26</td>\n",
       "      <td>1.000000</td>\n",
       "      <td>0.000000</td>\n",
       "      <td>0.000000</td>\n",
       "      <td>0</td>\n",
       "      <td>360</td>\n",
       "      <td>0</td>\n",
       "      <td>43</td>\n",
       "    </tr>\n",
       "    <tr>\n",
       "      <th>27</th>\n",
       "      <td>27</td>\n",
       "      <td>1.000000</td>\n",
       "      <td>0.000000</td>\n",
       "      <td>0.000000</td>\n",
       "      <td>0</td>\n",
       "      <td>360</td>\n",
       "      <td>0</td>\n",
       "      <td>43</td>\n",
       "    </tr>\n",
       "    <tr>\n",
       "      <th>28</th>\n",
       "      <td>28</td>\n",
       "      <td>1.000000</td>\n",
       "      <td>0.000000</td>\n",
       "      <td>0.000000</td>\n",
       "      <td>0</td>\n",
       "      <td>360</td>\n",
       "      <td>0</td>\n",
       "      <td>43</td>\n",
       "    </tr>\n",
       "    <tr>\n",
       "      <th>29</th>\n",
       "      <td>29</td>\n",
       "      <td>1.000000</td>\n",
       "      <td>0.000000</td>\n",
       "      <td>0.000000</td>\n",
       "      <td>0</td>\n",
       "      <td>360</td>\n",
       "      <td>0</td>\n",
       "      <td>43</td>\n",
       "    </tr>\n",
       "    <tr>\n",
       "      <th>30</th>\n",
       "      <td>30</td>\n",
       "      <td>1.000000</td>\n",
       "      <td>0.000000</td>\n",
       "      <td>0.000000</td>\n",
       "      <td>0</td>\n",
       "      <td>360</td>\n",
       "      <td>0</td>\n",
       "      <td>43</td>\n",
       "    </tr>\n",
       "    <tr>\n",
       "      <th>31</th>\n",
       "      <td>31</td>\n",
       "      <td>1.000000</td>\n",
       "      <td>0.000000</td>\n",
       "      <td>0.000000</td>\n",
       "      <td>0</td>\n",
       "      <td>360</td>\n",
       "      <td>0</td>\n",
       "      <td>43</td>\n",
       "    </tr>\n",
       "    <tr>\n",
       "      <th>32</th>\n",
       "      <td>32</td>\n",
       "      <td>1.000000</td>\n",
       "      <td>0.000000</td>\n",
       "      <td>0.000000</td>\n",
       "      <td>0</td>\n",
       "      <td>360</td>\n",
       "      <td>0</td>\n",
       "      <td>43</td>\n",
       "    </tr>\n",
       "    <tr>\n",
       "      <th>33</th>\n",
       "      <td>33</td>\n",
       "      <td>1.000000</td>\n",
       "      <td>0.000000</td>\n",
       "      <td>0.000000</td>\n",
       "      <td>0</td>\n",
       "      <td>360</td>\n",
       "      <td>0</td>\n",
       "      <td>43</td>\n",
       "    </tr>\n",
       "    <tr>\n",
       "      <th>34</th>\n",
       "      <td>34</td>\n",
       "      <td>1.000000</td>\n",
       "      <td>0.000000</td>\n",
       "      <td>0.000000</td>\n",
       "      <td>0</td>\n",
       "      <td>360</td>\n",
       "      <td>0</td>\n",
       "      <td>43</td>\n",
       "    </tr>\n",
       "    <tr>\n",
       "      <th>35</th>\n",
       "      <td>35</td>\n",
       "      <td>1.000000</td>\n",
       "      <td>0.000000</td>\n",
       "      <td>0.000000</td>\n",
       "      <td>0</td>\n",
       "      <td>360</td>\n",
       "      <td>0</td>\n",
       "      <td>43</td>\n",
       "    </tr>\n",
       "    <tr>\n",
       "      <th>36</th>\n",
       "      <td>36</td>\n",
       "      <td>1.000000</td>\n",
       "      <td>0.000000</td>\n",
       "      <td>0.000000</td>\n",
       "      <td>0</td>\n",
       "      <td>360</td>\n",
       "      <td>0</td>\n",
       "      <td>43</td>\n",
       "    </tr>\n",
       "    <tr>\n",
       "      <th>37</th>\n",
       "      <td>37</td>\n",
       "      <td>1.000000</td>\n",
       "      <td>0.000000</td>\n",
       "      <td>0.000000</td>\n",
       "      <td>0</td>\n",
       "      <td>360</td>\n",
       "      <td>0</td>\n",
       "      <td>43</td>\n",
       "    </tr>\n",
       "    <tr>\n",
       "      <th>38</th>\n",
       "      <td>38</td>\n",
       "      <td>1.000000</td>\n",
       "      <td>0.000000</td>\n",
       "      <td>0.000000</td>\n",
       "      <td>0</td>\n",
       "      <td>360</td>\n",
       "      <td>0</td>\n",
       "      <td>43</td>\n",
       "    </tr>\n",
       "    <tr>\n",
       "      <th>39</th>\n",
       "      <td>39</td>\n",
       "      <td>1.000000</td>\n",
       "      <td>0.000000</td>\n",
       "      <td>0.000000</td>\n",
       "      <td>0</td>\n",
       "      <td>360</td>\n",
       "      <td>0</td>\n",
       "      <td>43</td>\n",
       "    </tr>\n",
       "    <tr>\n",
       "      <th>40</th>\n",
       "      <td>40</td>\n",
       "      <td>1.000000</td>\n",
       "      <td>0.000000</td>\n",
       "      <td>0.000000</td>\n",
       "      <td>0</td>\n",
       "      <td>360</td>\n",
       "      <td>0</td>\n",
       "      <td>43</td>\n",
       "    </tr>\n",
       "    <tr>\n",
       "      <th>41</th>\n",
       "      <td>41</td>\n",
       "      <td>1.000000</td>\n",
       "      <td>0.000000</td>\n",
       "      <td>0.000000</td>\n",
       "      <td>0</td>\n",
       "      <td>360</td>\n",
       "      <td>0</td>\n",
       "      <td>43</td>\n",
       "    </tr>\n",
       "    <tr>\n",
       "      <th>42</th>\n",
       "      <td>42</td>\n",
       "      <td>1.000000</td>\n",
       "      <td>0.000000</td>\n",
       "      <td>0.000000</td>\n",
       "      <td>0</td>\n",
       "      <td>360</td>\n",
       "      <td>0</td>\n",
       "      <td>43</td>\n",
       "    </tr>\n",
       "    <tr>\n",
       "      <th>43</th>\n",
       "      <td>43</td>\n",
       "      <td>1.000000</td>\n",
       "      <td>0.000000</td>\n",
       "      <td>0.000000</td>\n",
       "      <td>0</td>\n",
       "      <td>360</td>\n",
       "      <td>0</td>\n",
       "      <td>43</td>\n",
       "    </tr>\n",
       "    <tr>\n",
       "      <th>44</th>\n",
       "      <td>44</td>\n",
       "      <td>1.000000</td>\n",
       "      <td>0.000000</td>\n",
       "      <td>0.000000</td>\n",
       "      <td>0</td>\n",
       "      <td>360</td>\n",
       "      <td>0</td>\n",
       "      <td>43</td>\n",
       "    </tr>\n",
       "    <tr>\n",
       "      <th>45</th>\n",
       "      <td>45</td>\n",
       "      <td>1.000000</td>\n",
       "      <td>0.000000</td>\n",
       "      <td>0.000000</td>\n",
       "      <td>0</td>\n",
       "      <td>360</td>\n",
       "      <td>0</td>\n",
       "      <td>43</td>\n",
       "    </tr>\n",
       "    <tr>\n",
       "      <th>46</th>\n",
       "      <td>46</td>\n",
       "      <td>1.000000</td>\n",
       "      <td>0.000000</td>\n",
       "      <td>0.000000</td>\n",
       "      <td>0</td>\n",
       "      <td>360</td>\n",
       "      <td>0</td>\n",
       "      <td>43</td>\n",
       "    </tr>\n",
       "    <tr>\n",
       "      <th>47</th>\n",
       "      <td>47</td>\n",
       "      <td>1.000000</td>\n",
       "      <td>0.000000</td>\n",
       "      <td>0.000000</td>\n",
       "      <td>0</td>\n",
       "      <td>360</td>\n",
       "      <td>0</td>\n",
       "      <td>43</td>\n",
       "    </tr>\n",
       "    <tr>\n",
       "      <th>48</th>\n",
       "      <td>48</td>\n",
       "      <td>1.000000</td>\n",
       "      <td>0.000000</td>\n",
       "      <td>0.000000</td>\n",
       "      <td>0</td>\n",
       "      <td>360</td>\n",
       "      <td>0</td>\n",
       "      <td>43</td>\n",
       "    </tr>\n",
       "    <tr>\n",
       "      <th>49</th>\n",
       "      <td>49</td>\n",
       "      <td>1.000000</td>\n",
       "      <td>0.000000</td>\n",
       "      <td>0.000000</td>\n",
       "      <td>0</td>\n",
       "      <td>360</td>\n",
       "      <td>0</td>\n",
       "      <td>43</td>\n",
       "    </tr>\n",
       "  </tbody>\n",
       "</table>\n",
       "</div>"
      ],
      "text/plain": [
       "    threshold  Euclidian       FPR       TPR  TP   TN   FP  FN\n",
       "0           0   1.000000  1.000000  1.000000  43    0  360   0\n",
       "1           1   0.872222  0.872222  1.000000  43   46  314   0\n",
       "2           2   0.744444  0.744444  1.000000  43   92  268   0\n",
       "3           3   0.634632  0.627778  0.906977  39  134  226   4\n",
       "4           4   0.548597  0.530556  0.860465  37  169  191   6\n",
       "5           5   0.488750  0.441667  0.790698  34  201  159   9\n",
       "6           6   0.429517  0.361111  0.767442  33  230  130  10\n",
       "7           7   0.361593  0.255556  0.744186  32  268   92  11\n",
       "8           8   0.466351  0.205556  0.581395  25  286   74  18\n",
       "9           9   0.510080  0.147222  0.511628  22  307   53  21\n",
       "10         10   0.546302  0.111111  0.465116  20  320   40  23\n",
       "11         11   0.632706  0.077778  0.372093  16  332   28  27\n",
       "12         12   0.700346  0.061111  0.302326  13  338   22  30\n",
       "13         13   0.745352  0.041667  0.255814  11  345   15  32\n",
       "14         14   0.814636  0.033333  0.186047   8  348   12  35\n",
       "15         15   0.860828  0.025000  0.139535   6  351    9  37\n",
       "16         16   0.953590  0.013889  0.046512   2  355    5  41\n",
       "17         17   0.976760  0.005556  0.023256   1  358    2  42\n",
       "18         18   0.976760  0.005556  0.023256   1  358    2  42\n",
       "19         19   1.000004  0.002778  0.000000   0  359    1  43\n",
       "20         20   1.000004  0.002778  0.000000   0  359    1  43\n",
       "21         21   1.000000  0.000000  0.000000   0  360    0  43\n",
       "22         22   1.000000  0.000000  0.000000   0  360    0  43\n",
       "23         23   1.000000  0.000000  0.000000   0  360    0  43\n",
       "24         24   1.000000  0.000000  0.000000   0  360    0  43\n",
       "25         25   1.000000  0.000000  0.000000   0  360    0  43\n",
       "26         26   1.000000  0.000000  0.000000   0  360    0  43\n",
       "27         27   1.000000  0.000000  0.000000   0  360    0  43\n",
       "28         28   1.000000  0.000000  0.000000   0  360    0  43\n",
       "29         29   1.000000  0.000000  0.000000   0  360    0  43\n",
       "30         30   1.000000  0.000000  0.000000   0  360    0  43\n",
       "31         31   1.000000  0.000000  0.000000   0  360    0  43\n",
       "32         32   1.000000  0.000000  0.000000   0  360    0  43\n",
       "33         33   1.000000  0.000000  0.000000   0  360    0  43\n",
       "34         34   1.000000  0.000000  0.000000   0  360    0  43\n",
       "35         35   1.000000  0.000000  0.000000   0  360    0  43\n",
       "36         36   1.000000  0.000000  0.000000   0  360    0  43\n",
       "37         37   1.000000  0.000000  0.000000   0  360    0  43\n",
       "38         38   1.000000  0.000000  0.000000   0  360    0  43\n",
       "39         39   1.000000  0.000000  0.000000   0  360    0  43\n",
       "40         40   1.000000  0.000000  0.000000   0  360    0  43\n",
       "41         41   1.000000  0.000000  0.000000   0  360    0  43\n",
       "42         42   1.000000  0.000000  0.000000   0  360    0  43\n",
       "43         43   1.000000  0.000000  0.000000   0  360    0  43\n",
       "44         44   1.000000  0.000000  0.000000   0  360    0  43\n",
       "45         45   1.000000  0.000000  0.000000   0  360    0  43\n",
       "46         46   1.000000  0.000000  0.000000   0  360    0  43\n",
       "47         47   1.000000  0.000000  0.000000   0  360    0  43\n",
       "48         48   1.000000  0.000000  0.000000   0  360    0  43\n",
       "49         49   1.000000  0.000000  0.000000   0  360    0  43"
      ]
     },
     "execution_count": 57,
     "metadata": {},
     "output_type": "execute_result"
    }
   ],
   "source": [
    "# Create a dataframe for all data for thresholds and associated fpr, tpr, tp, tn, fp, fn\n",
    "\n",
    "# and also euclidian distance\n",
    "# --> tpr - y axis \n",
    "# --> fpr - x axis \n",
    "# We want to calculate an Euclidian distance to (0,1) for each point on the ROC curve and pick the point where that is minimized. \n",
    "\n",
    "## dist = sqrt((x2 - x1)^2 + (y2 - y1)^2) \n",
    "## dist = sqrt(square(x2 - x1) + square(y2 - y1)) \n",
    "\n",
    "# I will create the df from a list of lists\n",
    "\n",
    "# first initiate the lists\n",
    "\n",
    "all_roc_auc = []\n",
    "all_fpr = []\n",
    "all_tpr = []\n",
    "all_tn = []\n",
    "all_fp = []\n",
    "all_fn = []\n",
    "all_tp = []\n",
    "all_thresholds = []\n",
    "all_euclidian = []\n",
    "\n",
    "# Point to calculate the Euclidian distance with - (0, 1)\n",
    "optimal_performance = np.array((0, 1))\n",
    "\n",
    "# now iterate through thesholds, calculate the values of interest, update the lists\n",
    "\n",
    "for threshold in range (0,50): #51,90\n",
    "    # predict diagnoses with the given threshold\n",
    "    y_score = predict_y(y_cbcl, threshold)\n",
    "    # calculate fp, fn, tp, tn, aucroc\n",
    "    tn, fp, fn, tp = confusion_matrix(y_true, y_score).ravel()\n",
    "    fpr = fp/(fp+tn)\n",
    "    tpr = tp/(tp+fn)\n",
    "    # calculate euclidian\n",
    "    fpr_tpr_datapoint = np.array((fpr, tpr))\n",
    "    sum_sq = np.sum(np.square(optimal_performance - fpr_tpr_datapoint))\n",
    "    euclidian = np.sqrt(sum_sq)\n",
    "    \n",
    "    # update all lists\n",
    "    all_fpr.append(fpr)\n",
    "    all_tpr.append(tpr)\n",
    "    all_tn.append(tn)\n",
    "    all_fp.append(fp)\n",
    "    all_fn.append(fn)\n",
    "    all_tp.append(tp)\n",
    "    all_thresholds.append(threshold)\n",
    "    all_euclidian.append(euclidian)\n",
    "\n",
    "\n",
    "# make a dataframe out of lists\n",
    "\n",
    "conf_matrices_data = pd.DataFrame(list(zip(all_thresholds, all_euclidian, all_fpr, all_tpr, all_tp, all_tn, all_fp, all_fn)),\n",
    "               columns =['threshold', 'Euclidian', 'FPR', 'TPR', 'TP', 'TN', 'FP', 'FN'])\n",
    "\n",
    "conf_matrices_data"
   ]
  },
  {
   "cell_type": "code",
   "execution_count": 58,
   "id": "0e0119c4",
   "metadata": {},
   "outputs": [
    {
     "name": "stderr",
     "output_type": "stream",
     "text": [
      "No artists with labels found to put in legend.  Note that artists whose label start with an underscore are ignored when legend() is called with no argument.\n"
     ]
    },
    {
     "data": {
      "image/png": "[encoded data removed]",
      "text/plain": [
       "<Figure size 432x288 with 1 Axes>"
      ]
     },
     "metadata": {
      "needs_background": "light"
     },
     "output_type": "display_data"
    }
   ],
   "source": [
    "# Just to visualize\n",
    "\n",
    "plt.figure()\n",
    "lw = 2 # linewidt\n",
    "plt.plot(\n",
    "    all_fpr,\n",
    "    all_tpr,\n",
    "    color=\"darkorange\",\n",
    "    lw=lw,\n",
    "    #label=\"ROC curve (area = %0.2f)\" % roc_auc,\n",
    ")\n",
    "plt.plot([0, 1], [0, 1], color=\"navy\", lw=lw, linestyle=\"--\")\n",
    "plt.xlim([0.0, 1.0])\n",
    "plt.ylim([0.0, 1.05])\n",
    "plt.xlabel(\"False Positive Rate\")\n",
    "plt.ylabel(\"True Positive Rate\")\n",
    "plt.title(\"Receiver operating characteristic\")\n",
    "plt.legend(loc=\"lower right\")\n",
    "plt.show()"
   ]
  },
  {
   "cell_type": "code",
   "execution_count": 59,
   "id": "6044e3b3",
   "metadata": {},
   "outputs": [
    {
     "data": {
      "text/plain": [
       "Euclidian    7\n",
       "dtype: int64"
      ]
     },
     "execution_count": 59,
     "metadata": {},
     "output_type": "execute_result"
    }
   ],
   "source": [
    "# Find the best fpr/tpr pair\n",
    "\n",
    "# What is the min euclidian distance in the dataframe?\n",
    "conf_matrices_data[['Euclidian']].idxmin()"
   ]
  },
  {
   "cell_type": "code",
   "execution_count": 60,
   "id": "94dd5ccb",
   "metadata": {},
   "outputs": [
    {
     "data": {
      "text/plain": [
       "threshold      7.000000\n",
       "Euclidian      0.361593\n",
       "FPR            0.255556\n",
       "TPR            0.744186\n",
       "TP            32.000000\n",
       "TN           268.000000\n",
       "FP            92.000000\n",
       "FN            11.000000\n",
       "Name: 7, dtype: float64"
      ]
     },
     "execution_count": 60,
     "metadata": {},
     "output_type": "execute_result"
    }
   ],
   "source": [
    "conf_matrices_data.loc[7]"
   ]
  }
 ],
 "metadata": {
  "kernelspec": {
   "display_name": "Python 3 (ipykernel)",
   "language": "python",
   "name": "python3"
  },
  "language_info": {
   "codemirror_mode": {
    "name": "ipython",
    "version": 3
   },
   "file_extension": ".py",
   "mimetype": "text/x-python",
   "name": "python",
   "nbconvert_exporter": "python",
   "pygments_lexer": "ipython3",
   "version": "3.9.7"
  }
 },
 "nbformat": 4,
 "nbformat_minor": 5
}
